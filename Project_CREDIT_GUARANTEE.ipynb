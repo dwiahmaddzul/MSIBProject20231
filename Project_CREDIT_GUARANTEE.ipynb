{
  "cells": [
    {
      "cell_type": "markdown",
      "metadata": {
        "id": "view-in-github",
        "colab_type": "text"
      },
      "source": [
        "<a href=\"https://colab.research.google.com/github/dwiahmaddzul/MSIBProject20231/blob/main/Project_CREDIT_GUARANTEE.ipynb\" target=\"_parent\"><img src=\"https://colab.research.google.com/assets/colab-badge.svg\" alt=\"Open In Colab\"/></a>"
      ]
    },
    {
      "cell_type": "markdown",
      "metadata": {
        "id": "SpkDSZYmrz0i"
      },
      "source": [
        "##Instalasi dan Persiapan Library"
      ]
    },
    {
      "cell_type": "code",
      "execution_count": null,
      "metadata": {
        "id": "BAbm31C2GgIf"
      },
      "outputs": [],
      "source": [
        "#pip install faker"
      ]
    },
    {
      "cell_type": "code",
      "execution_count": null,
      "metadata": {
        "colab": {
          "base_uri": "https://localhost:8080/"
        },
        "id": "7VFrAH-SUcaH",
        "outputId": "966fa231-0819-4e14-a429-a88aed2a3ff0"
      },
      "outputs": [
        {
          "output_type": "stream",
          "name": "stdout",
          "text": [
            "Looking in indexes: https://pypi.org/simple, https://us-python.pkg.dev/colab-wheels/public/simple/\n",
            "Requirement already satisfied: faker in /usr/local/lib/python3.8/dist-packages (17.0.0)\n",
            "Requirement already satisfied: pandas in /usr/local/lib/python3.8/dist-packages (1.3.5)\n",
            "Requirement already satisfied: numpy in /usr/local/lib/python3.8/dist-packages (1.22.4)\n",
            "Requirement already satisfied: matplotlib in /usr/local/lib/python3.8/dist-packages (3.5.3)\n",
            "Requirement already satisfied: scikit-learn in /usr/local/lib/python3.8/dist-packages (1.0.2)\n",
            "Requirement already satisfied: tensorflow in /usr/local/lib/python3.8/dist-packages (2.11.0)\n",
            "Requirement already satisfied: flask in /usr/local/lib/python3.8/dist-packages (1.1.4)\n",
            "Requirement already satisfied: python-dateutil>=2.4 in /usr/local/lib/python3.8/dist-packages (from faker) (2.8.2)\n",
            "Requirement already satisfied: pytz>=2017.3 in /usr/local/lib/python3.8/dist-packages (from pandas) (2022.7.1)\n",
            "Requirement already satisfied: cycler>=0.10 in /usr/local/lib/python3.8/dist-packages (from matplotlib) (0.11.0)\n",
            "Requirement already satisfied: fonttools>=4.22.0 in /usr/local/lib/python3.8/dist-packages (from matplotlib) (4.38.0)\n",
            "Requirement already satisfied: packaging>=20.0 in /usr/local/lib/python3.8/dist-packages (from matplotlib) (23.0)\n",
            "Requirement already satisfied: pillow>=6.2.0 in /usr/local/lib/python3.8/dist-packages (from matplotlib) (7.1.2)\n",
            "Requirement already satisfied: kiwisolver>=1.0.1 in /usr/local/lib/python3.8/dist-packages (from matplotlib) (1.4.4)\n",
            "Requirement already satisfied: pyparsing>=2.2.1 in /usr/local/lib/python3.8/dist-packages (from matplotlib) (3.0.9)\n",
            "Requirement already satisfied: scipy>=1.1.0 in /usr/local/lib/python3.8/dist-packages (from scikit-learn) (1.7.3)\n",
            "Requirement already satisfied: threadpoolctl>=2.0.0 in /usr/local/lib/python3.8/dist-packages (from scikit-learn) (3.1.0)\n",
            "Requirement already satisfied: joblib>=0.11 in /usr/local/lib/python3.8/dist-packages (from scikit-learn) (1.2.0)\n",
            "Requirement already satisfied: opt-einsum>=2.3.2 in /usr/local/lib/python3.8/dist-packages (from tensorflow) (3.3.0)\n",
            "Requirement already satisfied: libclang>=13.0.0 in /usr/local/lib/python3.8/dist-packages (from tensorflow) (15.0.6.1)\n",
            "Requirement already satisfied: flatbuffers>=2.0 in /usr/local/lib/python3.8/dist-packages (from tensorflow) (23.1.21)\n",
            "Requirement already satisfied: gast<=0.4.0,>=0.2.1 in /usr/local/lib/python3.8/dist-packages (from tensorflow) (0.4.0)\n",
            "Requirement already satisfied: keras<2.12,>=2.11.0 in /usr/local/lib/python3.8/dist-packages (from tensorflow) (2.11.0)\n",
            "Requirement already satisfied: protobuf<3.20,>=3.9.2 in /usr/local/lib/python3.8/dist-packages (from tensorflow) (3.19.6)\n",
            "Requirement already satisfied: tensorboard<2.12,>=2.11 in /usr/local/lib/python3.8/dist-packages (from tensorflow) (2.11.2)\n",
            "Requirement already satisfied: h5py>=2.9.0 in /usr/local/lib/python3.8/dist-packages (from tensorflow) (3.1.0)\n",
            "Requirement already satisfied: google-pasta>=0.1.1 in /usr/local/lib/python3.8/dist-packages (from tensorflow) (0.2.0)\n",
            "Requirement already satisfied: astunparse>=1.6.0 in /usr/local/lib/python3.8/dist-packages (from tensorflow) (1.6.3)\n",
            "Requirement already satisfied: wrapt>=1.11.0 in /usr/local/lib/python3.8/dist-packages (from tensorflow) (1.14.1)\n",
            "Requirement already satisfied: tensorflow-io-gcs-filesystem>=0.23.1 in /usr/local/lib/python3.8/dist-packages (from tensorflow) (0.30.0)\n",
            "Requirement already satisfied: absl-py>=1.0.0 in /usr/local/lib/python3.8/dist-packages (from tensorflow) (1.4.0)\n",
            "Requirement already satisfied: grpcio<2.0,>=1.24.3 in /usr/local/lib/python3.8/dist-packages (from tensorflow) (1.51.1)\n",
            "Requirement already satisfied: six>=1.12.0 in /usr/local/lib/python3.8/dist-packages (from tensorflow) (1.15.0)\n",
            "Requirement already satisfied: tensorflow-estimator<2.12,>=2.11.0 in /usr/local/lib/python3.8/dist-packages (from tensorflow) (2.11.0)\n",
            "Requirement already satisfied: typing-extensions>=3.6.6 in /usr/local/lib/python3.8/dist-packages (from tensorflow) (4.5.0)\n",
            "Requirement already satisfied: termcolor>=1.1.0 in /usr/local/lib/python3.8/dist-packages (from tensorflow) (2.2.0)\n",
            "Requirement already satisfied: setuptools in /usr/local/lib/python3.8/dist-packages (from tensorflow) (57.4.0)\n",
            "Requirement already satisfied: Werkzeug<2.0,>=0.15 in /usr/local/lib/python3.8/dist-packages (from flask) (1.0.1)\n",
            "Requirement already satisfied: click<8.0,>=5.1 in /usr/local/lib/python3.8/dist-packages (from flask) (7.1.2)\n",
            "Requirement already satisfied: itsdangerous<2.0,>=0.24 in /usr/local/lib/python3.8/dist-packages (from flask) (1.1.0)\n",
            "Requirement already satisfied: Jinja2<3.0,>=2.10.1 in /usr/local/lib/python3.8/dist-packages (from flask) (2.11.3)\n",
            "Requirement already satisfied: wheel<1.0,>=0.23.0 in /usr/local/lib/python3.8/dist-packages (from astunparse>=1.6.0->tensorflow) (0.38.4)\n",
            "Requirement already satisfied: MarkupSafe>=0.23 in /usr/local/lib/python3.8/dist-packages (from Jinja2<3.0,>=2.10.1->flask) (2.0.1)\n",
            "Requirement already satisfied: google-auth<3,>=1.6.3 in /usr/local/lib/python3.8/dist-packages (from tensorboard<2.12,>=2.11->tensorflow) (2.16.1)\n",
            "Requirement already satisfied: tensorboard-plugin-wit>=1.6.0 in /usr/local/lib/python3.8/dist-packages (from tensorboard<2.12,>=2.11->tensorflow) (1.8.1)\n",
            "Requirement already satisfied: requests<3,>=2.21.0 in /usr/local/lib/python3.8/dist-packages (from tensorboard<2.12,>=2.11->tensorflow) (2.25.1)\n",
            "Requirement already satisfied: tensorboard-data-server<0.7.0,>=0.6.0 in /usr/local/lib/python3.8/dist-packages (from tensorboard<2.12,>=2.11->tensorflow) (0.6.1)\n",
            "Requirement already satisfied: google-auth-oauthlib<0.5,>=0.4.1 in /usr/local/lib/python3.8/dist-packages (from tensorboard<2.12,>=2.11->tensorflow) (0.4.6)\n",
            "Requirement already satisfied: markdown>=2.6.8 in /usr/local/lib/python3.8/dist-packages (from tensorboard<2.12,>=2.11->tensorflow) (3.4.1)\n",
            "Requirement already satisfied: pyasn1-modules>=0.2.1 in /usr/local/lib/python3.8/dist-packages (from google-auth<3,>=1.6.3->tensorboard<2.12,>=2.11->tensorflow) (0.2.8)\n",
            "Requirement already satisfied: cachetools<6.0,>=2.0.0 in /usr/local/lib/python3.8/dist-packages (from google-auth<3,>=1.6.3->tensorboard<2.12,>=2.11->tensorflow) (5.3.0)\n",
            "Requirement already satisfied: rsa<5,>=3.1.4 in /usr/local/lib/python3.8/dist-packages (from google-auth<3,>=1.6.3->tensorboard<2.12,>=2.11->tensorflow) (4.9)\n",
            "Requirement already satisfied: requests-oauthlib>=0.7.0 in /usr/local/lib/python3.8/dist-packages (from google-auth-oauthlib<0.5,>=0.4.1->tensorboard<2.12,>=2.11->tensorflow) (1.3.1)\n",
            "Requirement already satisfied: importlib-metadata>=4.4 in /usr/local/lib/python3.8/dist-packages (from markdown>=2.6.8->tensorboard<2.12,>=2.11->tensorflow) (6.0.0)\n",
            "Requirement already satisfied: certifi>=2017.4.17 in /usr/local/lib/python3.8/dist-packages (from requests<3,>=2.21.0->tensorboard<2.12,>=2.11->tensorflow) (2022.12.7)\n",
            "Requirement already satisfied: chardet<5,>=3.0.2 in /usr/local/lib/python3.8/dist-packages (from requests<3,>=2.21.0->tensorboard<2.12,>=2.11->tensorflow) (4.0.0)\n",
            "Requirement already satisfied: idna<3,>=2.5 in /usr/local/lib/python3.8/dist-packages (from requests<3,>=2.21.0->tensorboard<2.12,>=2.11->tensorflow) (2.10)\n",
            "Requirement already satisfied: urllib3<1.27,>=1.21.1 in /usr/local/lib/python3.8/dist-packages (from requests<3,>=2.21.0->tensorboard<2.12,>=2.11->tensorflow) (1.24.3)\n",
            "Requirement already satisfied: zipp>=0.5 in /usr/local/lib/python3.8/dist-packages (from importlib-metadata>=4.4->markdown>=2.6.8->tensorboard<2.12,>=2.11->tensorflow) (3.14.0)\n",
            "Requirement already satisfied: pyasn1<0.5.0,>=0.4.6 in /usr/local/lib/python3.8/dist-packages (from pyasn1-modules>=0.2.1->google-auth<3,>=1.6.3->tensorboard<2.12,>=2.11->tensorflow) (0.4.8)\n",
            "Requirement already satisfied: oauthlib>=3.0.0 in /usr/local/lib/python3.8/dist-packages (from requests-oauthlib>=0.7.0->google-auth-oauthlib<0.5,>=0.4.1->tensorboard<2.12,>=2.11->tensorflow) (3.2.2)\n"
          ]
        }
      ],
      "source": [
        "!pip install faker pandas numpy matplotlib scikit-learn tensorflow flask\n"
      ]
    },
    {
      "cell_type": "code",
      "execution_count": null,
      "metadata": {
        "id": "YB0-JDyDGpRG"
      },
      "outputs": [],
      "source": [
        "import numpy as np\n",
        "import pandas as pd\n",
        "from faker import Faker"
      ]
    },
    {
      "cell_type": "markdown",
      "metadata": {
        "id": "NDReOUdtr5-H"
      },
      "source": [
        "## Generate Data"
      ]
    },
    {
      "cell_type": "code",
      "execution_count": null,
      "metadata": {
        "id": "7n7soi5gsLID"
      },
      "outputs": [],
      "source": [
        "# Faker data Indonesia\n",
        "fake = Faker('id_ID')\n",
        "\n",
        "# Membuat data dummy\n",
        "credit_history =  [fake.random_element(elements=('Poor', 'Fair', 'Good', 'Excellent')) for _ in range(100000)]\n",
        "income = [fake.random_int(min=1000000, max=100000000) for _ in range(100000)]\n",
        "employment_history = [fake.random_element(elements=('Unemployed', 'Less than a year', '1-2 years', '3-5 years', 'More than 5 years')) for _ in range(100000)]\n",
        "loan_amount = [fake.random_int(min=500000, max=100000000) for _ in range(100000)]\n",
        "collateral = [fake.random_element(elements=('House', 'Car', 'Stocks', 'Jewelry', 'None')) for _ in range(100000)]\n",
        "debt_to_income_ratio = [fake.pyfloat(left_digits=2, right_digits=2, positive=True) for _ in range(100000)]\n",
        "geographic_location = [fake.state() for _ in range(100000)]\n",
        "age = [fake.random_int(min=18, max=80) for _ in range(100000)]\n",
        "education_level = [fake.random_element(elements=('SD', 'SMP', 'SMA', 'D3', 'S1', 'S2', 'S3')) for _ in range(100000)]\n",
        "address = [fake.street_address() for _ in range(100000)]\n",
        "\n",
        "# Membuat dataframe\n",
        "data = pd.DataFrame({\n",
        "    'Credit history': credit_history,\n",
        "    'Income': income,\n",
        "    'Employment history': employment_history,\n",
        "    'Loan amount': loan_amount,\n",
        "    'Collateral': collateral,\n",
        "    'Debt-to-income ratio': debt_to_income_ratio,\n",
        "    'Geographic location': geographic_location,\n",
        "    'Age': age,\n",
        "    'Education level': education_level,\n",
        "    'Address' : address\n",
        "})\n",
        "\n",
        "# save dataframe to csv file\n",
        "data.to_csv('dummy_data.csv', index=False)"
      ]
    },
    {
      "cell_type": "markdown",
      "metadata": {
        "id": "YzhUDvMssVo1"
      },
      "source": [
        "### Akuisisi Data"
      ]
    },
    {
      "cell_type": "code",
      "execution_count": null,
      "metadata": {
        "id": "KvsTNXjRs7Wv"
      },
      "outputs": [],
      "source": [
        "df = data"
      ]
    },
    {
      "cell_type": "code",
      "source": [
        "df = df.dropna(inplace=True)"
      ],
      "metadata": {
        "colab": {
          "base_uri": "https://localhost:8080/",
          "height": 171
        },
        "id": "sgImhZCRhelO",
        "outputId": "f6d87605-1838-456d-907c-1f141892ddde"
      },
      "execution_count": null,
      "outputs": [
        {
          "output_type": "error",
          "ename": "NameError",
          "evalue": "ignored",
          "traceback": [
            "\u001b[0;31m---------------------------------------------------------------------------\u001b[0m",
            "\u001b[0;31mNameError\u001b[0m                                 Traceback (most recent call last)",
            "\u001b[0;32m<ipython-input-2-bb084f29b4f6>\u001b[0m in \u001b[0;36m<module>\u001b[0;34m\u001b[0m\n\u001b[0;32m----> 1\u001b[0;31m \u001b[0mdf\u001b[0m \u001b[0;34m=\u001b[0m \u001b[0mdf\u001b[0m\u001b[0;34m.\u001b[0m\u001b[0mdropna\u001b[0m\u001b[0;34m(\u001b[0m\u001b[0minplace\u001b[0m\u001b[0;34m=\u001b[0m\u001b[0;32mTrue\u001b[0m\u001b[0;34m)\u001b[0m\u001b[0;34m\u001b[0m\u001b[0;34m\u001b[0m\u001b[0m\n\u001b[0m",
            "\u001b[0;31mNameError\u001b[0m: name 'df' is not defined"
          ]
        }
      ]
    },
    {
      "cell_type": "markdown",
      "metadata": {
        "id": "Xs6qadGesZ33"
      },
      "source": [
        "## Data Understanding"
      ]
    },
    {
      "cell_type": "code",
      "execution_count": null,
      "metadata": {
        "colab": {
          "base_uri": "https://localhost:8080/"
        },
        "id": "048q98Nusevz",
        "outputId": "c58bfb6c-aa8b-44d6-9a73-23d4c835e4e7"
      },
      "outputs": [
        {
          "output_type": "execute_result",
          "data": {
            "text/plain": [
              "  Credit history    Income Employment history  Loan amount Collateral  \\\n",
              "0      Excellent  80335815         Unemployed     64883460     Stocks   \n",
              "1           Fair  94819076         Unemployed     96794719        Car   \n",
              "2           Poor  18711458          3-5 years     10040710      House   \n",
              "3           Fair  72132326   Less than a year     66521910       None   \n",
              "4           Poor  83841609          3-5 years     80403539        Car   \n",
              "5      Excellent  72496835  More than 5 years     87622996     Stocks   \n",
              "6           Fair  46028030          1-2 years     28148236      House   \n",
              "7      Excellent  58426228          1-2 years     19628786      House   \n",
              "8           Fair  65152635   Less than a year     38379434      House   \n",
              "9           Poor  43491269         Unemployed     74438831     Stocks   \n",
              "\n",
              "   Debt-to-income ratio        Geographic location  Age Education level  \\\n",
              "0                 26.89           Kalimantan Timur   48             SMP   \n",
              "1                  3.36                Papua Barat   29             SMA   \n",
              "2                 24.27                    Lampung   63              D3   \n",
              "3                  3.13  Kepulauan Bangka Belitung   58              SD   \n",
              "4                 43.11             Sumatera Barat   21              S2   \n",
              "5                 77.75               Maluku Utara   76              S2   \n",
              "6                 80.56                       Riau   55              S2   \n",
              "7                 32.66                 Jawa Barat   75              SD   \n",
              "8                 84.15                       Aceh   56              S1   \n",
              "9                 65.84             Sulawesi Utara   75              D3   \n",
              "\n",
              "                          Address  \n",
              "0           Jl. Asia Afrika No. 3  \n",
              "1       Gang Astana Anyar No. 279  \n",
              "2       Jl. Ronggowarsito No. 556  \n",
              "3       Jl. Dr. Djunjunan No. 154  \n",
              "4     Gg. Pelajar Pejuang No. 370  \n",
              "5            Jl. Dipenogoro No. 2  \n",
              "6     Gang Kutisari Selatan No. 4  \n",
              "7          Gg. Jayawijaya No. 000  \n",
              "8  Jalan Raya Ujungberung No. 305  \n",
              "9    Jl. Raya Ujungberung No. 425  "
            ],
            "text/html": [
              "\n",
              "  <div id=\"df-40545839-4c48-49a9-82b8-9f7536df4e4b\">\n",
              "    <div class=\"colab-df-container\">\n",
              "      <div>\n",
              "<style scoped>\n",
              "    .dataframe tbody tr th:only-of-type {\n",
              "        vertical-align: middle;\n",
              "    }\n",
              "\n",
              "    .dataframe tbody tr th {\n",
              "        vertical-align: top;\n",
              "    }\n",
              "\n",
              "    .dataframe thead th {\n",
              "        text-align: right;\n",
              "    }\n",
              "</style>\n",
              "<table border=\"1\" class=\"dataframe\">\n",
              "  <thead>\n",
              "    <tr style=\"text-align: right;\">\n",
              "      <th></th>\n",
              "      <th>Credit history</th>\n",
              "      <th>Income</th>\n",
              "      <th>Employment history</th>\n",
              "      <th>Loan amount</th>\n",
              "      <th>Collateral</th>\n",
              "      <th>Debt-to-income ratio</th>\n",
              "      <th>Geographic location</th>\n",
              "      <th>Age</th>\n",
              "      <th>Education level</th>\n",
              "      <th>Address</th>\n",
              "    </tr>\n",
              "  </thead>\n",
              "  <tbody>\n",
              "    <tr>\n",
              "      <th>0</th>\n",
              "      <td>Excellent</td>\n",
              "      <td>80335815</td>\n",
              "      <td>Unemployed</td>\n",
              "      <td>64883460</td>\n",
              "      <td>Stocks</td>\n",
              "      <td>26.89</td>\n",
              "      <td>Kalimantan Timur</td>\n",
              "      <td>48</td>\n",
              "      <td>SMP</td>\n",
              "      <td>Jl. Asia Afrika No. 3</td>\n",
              "    </tr>\n",
              "    <tr>\n",
              "      <th>1</th>\n",
              "      <td>Fair</td>\n",
              "      <td>94819076</td>\n",
              "      <td>Unemployed</td>\n",
              "      <td>96794719</td>\n",
              "      <td>Car</td>\n",
              "      <td>3.36</td>\n",
              "      <td>Papua Barat</td>\n",
              "      <td>29</td>\n",
              "      <td>SMA</td>\n",
              "      <td>Gang Astana Anyar No. 279</td>\n",
              "    </tr>\n",
              "    <tr>\n",
              "      <th>2</th>\n",
              "      <td>Poor</td>\n",
              "      <td>18711458</td>\n",
              "      <td>3-5 years</td>\n",
              "      <td>10040710</td>\n",
              "      <td>House</td>\n",
              "      <td>24.27</td>\n",
              "      <td>Lampung</td>\n",
              "      <td>63</td>\n",
              "      <td>D3</td>\n",
              "      <td>Jl. Ronggowarsito No. 556</td>\n",
              "    </tr>\n",
              "    <tr>\n",
              "      <th>3</th>\n",
              "      <td>Fair</td>\n",
              "      <td>72132326</td>\n",
              "      <td>Less than a year</td>\n",
              "      <td>66521910</td>\n",
              "      <td>None</td>\n",
              "      <td>3.13</td>\n",
              "      <td>Kepulauan Bangka Belitung</td>\n",
              "      <td>58</td>\n",
              "      <td>SD</td>\n",
              "      <td>Jl. Dr. Djunjunan No. 154</td>\n",
              "    </tr>\n",
              "    <tr>\n",
              "      <th>4</th>\n",
              "      <td>Poor</td>\n",
              "      <td>83841609</td>\n",
              "      <td>3-5 years</td>\n",
              "      <td>80403539</td>\n",
              "      <td>Car</td>\n",
              "      <td>43.11</td>\n",
              "      <td>Sumatera Barat</td>\n",
              "      <td>21</td>\n",
              "      <td>S2</td>\n",
              "      <td>Gg. Pelajar Pejuang No. 370</td>\n",
              "    </tr>\n",
              "    <tr>\n",
              "      <th>5</th>\n",
              "      <td>Excellent</td>\n",
              "      <td>72496835</td>\n",
              "      <td>More than 5 years</td>\n",
              "      <td>87622996</td>\n",
              "      <td>Stocks</td>\n",
              "      <td>77.75</td>\n",
              "      <td>Maluku Utara</td>\n",
              "      <td>76</td>\n",
              "      <td>S2</td>\n",
              "      <td>Jl. Dipenogoro No. 2</td>\n",
              "    </tr>\n",
              "    <tr>\n",
              "      <th>6</th>\n",
              "      <td>Fair</td>\n",
              "      <td>46028030</td>\n",
              "      <td>1-2 years</td>\n",
              "      <td>28148236</td>\n",
              "      <td>House</td>\n",
              "      <td>80.56</td>\n",
              "      <td>Riau</td>\n",
              "      <td>55</td>\n",
              "      <td>S2</td>\n",
              "      <td>Gang Kutisari Selatan No. 4</td>\n",
              "    </tr>\n",
              "    <tr>\n",
              "      <th>7</th>\n",
              "      <td>Excellent</td>\n",
              "      <td>58426228</td>\n",
              "      <td>1-2 years</td>\n",
              "      <td>19628786</td>\n",
              "      <td>House</td>\n",
              "      <td>32.66</td>\n",
              "      <td>Jawa Barat</td>\n",
              "      <td>75</td>\n",
              "      <td>SD</td>\n",
              "      <td>Gg. Jayawijaya No. 000</td>\n",
              "    </tr>\n",
              "    <tr>\n",
              "      <th>8</th>\n",
              "      <td>Fair</td>\n",
              "      <td>65152635</td>\n",
              "      <td>Less than a year</td>\n",
              "      <td>38379434</td>\n",
              "      <td>House</td>\n",
              "      <td>84.15</td>\n",
              "      <td>Aceh</td>\n",
              "      <td>56</td>\n",
              "      <td>S1</td>\n",
              "      <td>Jalan Raya Ujungberung No. 305</td>\n",
              "    </tr>\n",
              "    <tr>\n",
              "      <th>9</th>\n",
              "      <td>Poor</td>\n",
              "      <td>43491269</td>\n",
              "      <td>Unemployed</td>\n",
              "      <td>74438831</td>\n",
              "      <td>Stocks</td>\n",
              "      <td>65.84</td>\n",
              "      <td>Sulawesi Utara</td>\n",
              "      <td>75</td>\n",
              "      <td>D3</td>\n",
              "      <td>Jl. Raya Ujungberung No. 425</td>\n",
              "    </tr>\n",
              "  </tbody>\n",
              "</table>\n",
              "</div>\n",
              "      <button class=\"colab-df-convert\" onclick=\"convertToInteractive('df-40545839-4c48-49a9-82b8-9f7536df4e4b')\"\n",
              "              title=\"Convert this dataframe to an interactive table.\"\n",
              "              style=\"display:none;\">\n",
              "        \n",
              "  <svg xmlns=\"http://www.w3.org/2000/svg\" height=\"24px\"viewBox=\"0 0 24 24\"\n",
              "       width=\"24px\">\n",
              "    <path d=\"M0 0h24v24H0V0z\" fill=\"none\"/>\n",
              "    <path d=\"M18.56 5.44l.94 2.06.94-2.06 2.06-.94-2.06-.94-.94-2.06-.94 2.06-2.06.94zm-11 1L8.5 8.5l.94-2.06 2.06-.94-2.06-.94L8.5 2.5l-.94 2.06-2.06.94zm10 10l.94 2.06.94-2.06 2.06-.94-2.06-.94-.94-2.06-.94 2.06-2.06.94z\"/><path d=\"M17.41 7.96l-1.37-1.37c-.4-.4-.92-.59-1.43-.59-.52 0-1.04.2-1.43.59L10.3 9.45l-7.72 7.72c-.78.78-.78 2.05 0 2.83L4 21.41c.39.39.9.59 1.41.59.51 0 1.02-.2 1.41-.59l7.78-7.78 2.81-2.81c.8-.78.8-2.07 0-2.86zM5.41 20L4 18.59l7.72-7.72 1.47 1.35L5.41 20z\"/>\n",
              "  </svg>\n",
              "      </button>\n",
              "      \n",
              "  <style>\n",
              "    .colab-df-container {\n",
              "      display:flex;\n",
              "      flex-wrap:wrap;\n",
              "      gap: 12px;\n",
              "    }\n",
              "\n",
              "    .colab-df-convert {\n",
              "      background-color: #E8F0FE;\n",
              "      border: none;\n",
              "      border-radius: 50%;\n",
              "      cursor: pointer;\n",
              "      display: none;\n",
              "      fill: #1967D2;\n",
              "      height: 32px;\n",
              "      padding: 0 0 0 0;\n",
              "      width: 32px;\n",
              "    }\n",
              "\n",
              "    .colab-df-convert:hover {\n",
              "      background-color: #E2EBFA;\n",
              "      box-shadow: 0px 1px 2px rgba(60, 64, 67, 0.3), 0px 1px 3px 1px rgba(60, 64, 67, 0.15);\n",
              "      fill: #174EA6;\n",
              "    }\n",
              "\n",
              "    [theme=dark] .colab-df-convert {\n",
              "      background-color: #3B4455;\n",
              "      fill: #D2E3FC;\n",
              "    }\n",
              "\n",
              "    [theme=dark] .colab-df-convert:hover {\n",
              "      background-color: #434B5C;\n",
              "      box-shadow: 0px 1px 3px 1px rgba(0, 0, 0, 0.15);\n",
              "      filter: drop-shadow(0px 1px 2px rgba(0, 0, 0, 0.3));\n",
              "      fill: #FFFFFF;\n",
              "    }\n",
              "  </style>\n",
              "\n",
              "      <script>\n",
              "        const buttonEl =\n",
              "          document.querySelector('#df-40545839-4c48-49a9-82b8-9f7536df4e4b button.colab-df-convert');\n",
              "        buttonEl.style.display =\n",
              "          google.colab.kernel.accessAllowed ? 'block' : 'none';\n",
              "\n",
              "        async function convertToInteractive(key) {\n",
              "          const element = document.querySelector('#df-40545839-4c48-49a9-82b8-9f7536df4e4b');\n",
              "          const dataTable =\n",
              "            await google.colab.kernel.invokeFunction('convertToInteractive',\n",
              "                                                     [key], {});\n",
              "          if (!dataTable) return;\n",
              "\n",
              "          const docLinkHtml = 'Like what you see? Visit the ' +\n",
              "            '<a target=\"_blank\" href=https://colab.research.google.com/notebooks/data_table.ipynb>data table notebook</a>'\n",
              "            + ' to learn more about interactive tables.';\n",
              "          element.innerHTML = '';\n",
              "          dataTable['output_type'] = 'display_data';\n",
              "          await google.colab.output.renderOutput(dataTable, element);\n",
              "          const docLink = document.createElement('div');\n",
              "          docLink.innerHTML = docLinkHtml;\n",
              "          element.appendChild(docLink);\n",
              "        }\n",
              "      </script>\n",
              "    </div>\n",
              "  </div>\n",
              "  "
            ]
          },
          "metadata": {},
          "execution_count": 15
        }
      ],
      "source": [
        "df.head(10)"
      ]
    },
    {
      "cell_type": "code",
      "execution_count": null,
      "metadata": {
        "colab": {
          "base_uri": "https://localhost:8080/"
        },
        "id": "0QNYaJRNs2fa",
        "outputId": "44b35dc3-cea9-4021-a108-e65400b8e719"
      },
      "outputs": [
        {
          "output_type": "execute_result",
          "data": {
            "text/plain": [
              "      Credit history    Income Employment history  Loan amount Collateral  \\\n",
              "99990      Excellent  81320010   Less than a year     87395043     Stocks   \n",
              "99991           Good  71215332         Unemployed     17328821     Stocks   \n",
              "99992           Poor  39087362          1-2 years     58980090    Jewelry   \n",
              "99993           Good  54282037         Unemployed     41514341     Stocks   \n",
              "99994           Fair  37627185         Unemployed     89072019      House   \n",
              "99995           Poor  75288952          3-5 years     90589670     Stocks   \n",
              "99996           Good  97739769          1-2 years     72128881     Stocks   \n",
              "99997           Good  68394589         Unemployed     24739562       None   \n",
              "99998           Poor  41854057          3-5 years     88709986      House   \n",
              "99999           Good  62627734  More than 5 years     95929329    Jewelry   \n",
              "\n",
              "       Debt-to-income ratio  Geographic location  Age Education level  \\\n",
              "99990                 15.37             Bengkulu   58              S3   \n",
              "99991                 61.61       Sumatera Utara   37              S2   \n",
              "99992                  7.23                 Bali   37              S1   \n",
              "99993                  5.41               Maluku   80              S3   \n",
              "99994                 35.91            Gorontalo   55             SMP   \n",
              "99995                 44.46       Sumatera Utara   29             SMP   \n",
              "99996                 89.57                Jambi   23              SD   \n",
              "99997                 94.95    Kalimantan Tengah   52              S1   \n",
              "99998                 38.20  Nusa Tenggara Timur   37             SMA   \n",
              "99999                 12.50         Maluku Utara   23             SMP   \n",
              "\n",
              "                         Address  \n",
              "99990     Jl. Bangka Raya No. 13  \n",
              "99991   Jl. Rajawali Barat No. 9  \n",
              "99992        Gg. Wonoayu No. 297  \n",
              "99993           Gang Peta No. 28  \n",
              "99994   Gang Bangka Raya No. 103  \n",
              "99995      Jalan Erlangga No. 24  \n",
              "99996    Gang H.J Maemunah No. 6  \n",
              "99997     Gang Pasirkoja No. 336  \n",
              "99998    Jalan Monginsidi No. 74  \n",
              "99999  Gg. Dr. Djunjunan No. 835  "
            ],
            "text/html": [
              "\n",
              "  <div id=\"df-84d0c937-dcf0-412f-b1ab-fa75abe525da\">\n",
              "    <div class=\"colab-df-container\">\n",
              "      <div>\n",
              "<style scoped>\n",
              "    .dataframe tbody tr th:only-of-type {\n",
              "        vertical-align: middle;\n",
              "    }\n",
              "\n",
              "    .dataframe tbody tr th {\n",
              "        vertical-align: top;\n",
              "    }\n",
              "\n",
              "    .dataframe thead th {\n",
              "        text-align: right;\n",
              "    }\n",
              "</style>\n",
              "<table border=\"1\" class=\"dataframe\">\n",
              "  <thead>\n",
              "    <tr style=\"text-align: right;\">\n",
              "      <th></th>\n",
              "      <th>Credit history</th>\n",
              "      <th>Income</th>\n",
              "      <th>Employment history</th>\n",
              "      <th>Loan amount</th>\n",
              "      <th>Collateral</th>\n",
              "      <th>Debt-to-income ratio</th>\n",
              "      <th>Geographic location</th>\n",
              "      <th>Age</th>\n",
              "      <th>Education level</th>\n",
              "      <th>Address</th>\n",
              "    </tr>\n",
              "  </thead>\n",
              "  <tbody>\n",
              "    <tr>\n",
              "      <th>99990</th>\n",
              "      <td>Excellent</td>\n",
              "      <td>81320010</td>\n",
              "      <td>Less than a year</td>\n",
              "      <td>87395043</td>\n",
              "      <td>Stocks</td>\n",
              "      <td>15.37</td>\n",
              "      <td>Bengkulu</td>\n",
              "      <td>58</td>\n",
              "      <td>S3</td>\n",
              "      <td>Jl. Bangka Raya No. 13</td>\n",
              "    </tr>\n",
              "    <tr>\n",
              "      <th>99991</th>\n",
              "      <td>Good</td>\n",
              "      <td>71215332</td>\n",
              "      <td>Unemployed</td>\n",
              "      <td>17328821</td>\n",
              "      <td>Stocks</td>\n",
              "      <td>61.61</td>\n",
              "      <td>Sumatera Utara</td>\n",
              "      <td>37</td>\n",
              "      <td>S2</td>\n",
              "      <td>Jl. Rajawali Barat No. 9</td>\n",
              "    </tr>\n",
              "    <tr>\n",
              "      <th>99992</th>\n",
              "      <td>Poor</td>\n",
              "      <td>39087362</td>\n",
              "      <td>1-2 years</td>\n",
              "      <td>58980090</td>\n",
              "      <td>Jewelry</td>\n",
              "      <td>7.23</td>\n",
              "      <td>Bali</td>\n",
              "      <td>37</td>\n",
              "      <td>S1</td>\n",
              "      <td>Gg. Wonoayu No. 297</td>\n",
              "    </tr>\n",
              "    <tr>\n",
              "      <th>99993</th>\n",
              "      <td>Good</td>\n",
              "      <td>54282037</td>\n",
              "      <td>Unemployed</td>\n",
              "      <td>41514341</td>\n",
              "      <td>Stocks</td>\n",
              "      <td>5.41</td>\n",
              "      <td>Maluku</td>\n",
              "      <td>80</td>\n",
              "      <td>S3</td>\n",
              "      <td>Gang Peta No. 28</td>\n",
              "    </tr>\n",
              "    <tr>\n",
              "      <th>99994</th>\n",
              "      <td>Fair</td>\n",
              "      <td>37627185</td>\n",
              "      <td>Unemployed</td>\n",
              "      <td>89072019</td>\n",
              "      <td>House</td>\n",
              "      <td>35.91</td>\n",
              "      <td>Gorontalo</td>\n",
              "      <td>55</td>\n",
              "      <td>SMP</td>\n",
              "      <td>Gang Bangka Raya No. 103</td>\n",
              "    </tr>\n",
              "    <tr>\n",
              "      <th>99995</th>\n",
              "      <td>Poor</td>\n",
              "      <td>75288952</td>\n",
              "      <td>3-5 years</td>\n",
              "      <td>90589670</td>\n",
              "      <td>Stocks</td>\n",
              "      <td>44.46</td>\n",
              "      <td>Sumatera Utara</td>\n",
              "      <td>29</td>\n",
              "      <td>SMP</td>\n",
              "      <td>Jalan Erlangga No. 24</td>\n",
              "    </tr>\n",
              "    <tr>\n",
              "      <th>99996</th>\n",
              "      <td>Good</td>\n",
              "      <td>97739769</td>\n",
              "      <td>1-2 years</td>\n",
              "      <td>72128881</td>\n",
              "      <td>Stocks</td>\n",
              "      <td>89.57</td>\n",
              "      <td>Jambi</td>\n",
              "      <td>23</td>\n",
              "      <td>SD</td>\n",
              "      <td>Gang H.J Maemunah No. 6</td>\n",
              "    </tr>\n",
              "    <tr>\n",
              "      <th>99997</th>\n",
              "      <td>Good</td>\n",
              "      <td>68394589</td>\n",
              "      <td>Unemployed</td>\n",
              "      <td>24739562</td>\n",
              "      <td>None</td>\n",
              "      <td>94.95</td>\n",
              "      <td>Kalimantan Tengah</td>\n",
              "      <td>52</td>\n",
              "      <td>S1</td>\n",
              "      <td>Gang Pasirkoja No. 336</td>\n",
              "    </tr>\n",
              "    <tr>\n",
              "      <th>99998</th>\n",
              "      <td>Poor</td>\n",
              "      <td>41854057</td>\n",
              "      <td>3-5 years</td>\n",
              "      <td>88709986</td>\n",
              "      <td>House</td>\n",
              "      <td>38.20</td>\n",
              "      <td>Nusa Tenggara Timur</td>\n",
              "      <td>37</td>\n",
              "      <td>SMA</td>\n",
              "      <td>Jalan Monginsidi No. 74</td>\n",
              "    </tr>\n",
              "    <tr>\n",
              "      <th>99999</th>\n",
              "      <td>Good</td>\n",
              "      <td>62627734</td>\n",
              "      <td>More than 5 years</td>\n",
              "      <td>95929329</td>\n",
              "      <td>Jewelry</td>\n",
              "      <td>12.50</td>\n",
              "      <td>Maluku Utara</td>\n",
              "      <td>23</td>\n",
              "      <td>SMP</td>\n",
              "      <td>Gg. Dr. Djunjunan No. 835</td>\n",
              "    </tr>\n",
              "  </tbody>\n",
              "</table>\n",
              "</div>\n",
              "      <button class=\"colab-df-convert\" onclick=\"convertToInteractive('df-84d0c937-dcf0-412f-b1ab-fa75abe525da')\"\n",
              "              title=\"Convert this dataframe to an interactive table.\"\n",
              "              style=\"display:none;\">\n",
              "        \n",
              "  <svg xmlns=\"http://www.w3.org/2000/svg\" height=\"24px\"viewBox=\"0 0 24 24\"\n",
              "       width=\"24px\">\n",
              "    <path d=\"M0 0h24v24H0V0z\" fill=\"none\"/>\n",
              "    <path d=\"M18.56 5.44l.94 2.06.94-2.06 2.06-.94-2.06-.94-.94-2.06-.94 2.06-2.06.94zm-11 1L8.5 8.5l.94-2.06 2.06-.94-2.06-.94L8.5 2.5l-.94 2.06-2.06.94zm10 10l.94 2.06.94-2.06 2.06-.94-2.06-.94-.94-2.06-.94 2.06-2.06.94z\"/><path d=\"M17.41 7.96l-1.37-1.37c-.4-.4-.92-.59-1.43-.59-.52 0-1.04.2-1.43.59L10.3 9.45l-7.72 7.72c-.78.78-.78 2.05 0 2.83L4 21.41c.39.39.9.59 1.41.59.51 0 1.02-.2 1.41-.59l7.78-7.78 2.81-2.81c.8-.78.8-2.07 0-2.86zM5.41 20L4 18.59l7.72-7.72 1.47 1.35L5.41 20z\"/>\n",
              "  </svg>\n",
              "      </button>\n",
              "      \n",
              "  <style>\n",
              "    .colab-df-container {\n",
              "      display:flex;\n",
              "      flex-wrap:wrap;\n",
              "      gap: 12px;\n",
              "    }\n",
              "\n",
              "    .colab-df-convert {\n",
              "      background-color: #E8F0FE;\n",
              "      border: none;\n",
              "      border-radius: 50%;\n",
              "      cursor: pointer;\n",
              "      display: none;\n",
              "      fill: #1967D2;\n",
              "      height: 32px;\n",
              "      padding: 0 0 0 0;\n",
              "      width: 32px;\n",
              "    }\n",
              "\n",
              "    .colab-df-convert:hover {\n",
              "      background-color: #E2EBFA;\n",
              "      box-shadow: 0px 1px 2px rgba(60, 64, 67, 0.3), 0px 1px 3px 1px rgba(60, 64, 67, 0.15);\n",
              "      fill: #174EA6;\n",
              "    }\n",
              "\n",
              "    [theme=dark] .colab-df-convert {\n",
              "      background-color: #3B4455;\n",
              "      fill: #D2E3FC;\n",
              "    }\n",
              "\n",
              "    [theme=dark] .colab-df-convert:hover {\n",
              "      background-color: #434B5C;\n",
              "      box-shadow: 0px 1px 3px 1px rgba(0, 0, 0, 0.15);\n",
              "      filter: drop-shadow(0px 1px 2px rgba(0, 0, 0, 0.3));\n",
              "      fill: #FFFFFF;\n",
              "    }\n",
              "  </style>\n",
              "\n",
              "      <script>\n",
              "        const buttonEl =\n",
              "          document.querySelector('#df-84d0c937-dcf0-412f-b1ab-fa75abe525da button.colab-df-convert');\n",
              "        buttonEl.style.display =\n",
              "          google.colab.kernel.accessAllowed ? 'block' : 'none';\n",
              "\n",
              "        async function convertToInteractive(key) {\n",
              "          const element = document.querySelector('#df-84d0c937-dcf0-412f-b1ab-fa75abe525da');\n",
              "          const dataTable =\n",
              "            await google.colab.kernel.invokeFunction('convertToInteractive',\n",
              "                                                     [key], {});\n",
              "          if (!dataTable) return;\n",
              "\n",
              "          const docLinkHtml = 'Like what you see? Visit the ' +\n",
              "            '<a target=\"_blank\" href=https://colab.research.google.com/notebooks/data_table.ipynb>data table notebook</a>'\n",
              "            + ' to learn more about interactive tables.';\n",
              "          element.innerHTML = '';\n",
              "          dataTable['output_type'] = 'display_data';\n",
              "          await google.colab.output.renderOutput(dataTable, element);\n",
              "          const docLink = document.createElement('div');\n",
              "          docLink.innerHTML = docLinkHtml;\n",
              "          element.appendChild(docLink);\n",
              "        }\n",
              "      </script>\n",
              "    </div>\n",
              "  </div>\n",
              "  "
            ]
          },
          "metadata": {},
          "execution_count": 16
        }
      ],
      "source": [
        "df.tail(10)"
      ]
    },
    {
      "cell_type": "code",
      "execution_count": null,
      "metadata": {
        "colab": {
          "base_uri": "https://localhost:8080/"
        },
        "id": "xPLzBfQuskD7",
        "outputId": "2b36d7b2-e157-45f9-af33-6a8cdd922b9c"
      },
      "outputs": [
        {
          "output_type": "stream",
          "name": "stdout",
          "text": [
            "<class 'pandas.core.frame.DataFrame'>\n",
            "RangeIndex: 100000 entries, 0 to 99999\n",
            "Data columns (total 10 columns):\n",
            " #   Column                Non-Null Count   Dtype  \n",
            "---  ------                --------------   -----  \n",
            " 0   Credit history        100000 non-null  object \n",
            " 1   Income                100000 non-null  int64  \n",
            " 2   Employment history    100000 non-null  object \n",
            " 3   Loan amount           100000 non-null  int64  \n",
            " 4   Collateral            100000 non-null  object \n",
            " 5   Debt-to-income ratio  100000 non-null  float64\n",
            " 6   Geographic location   100000 non-null  object \n",
            " 7   Age                   100000 non-null  int64  \n",
            " 8   Education level       100000 non-null  object \n",
            " 9   Address               100000 non-null  object \n",
            "dtypes: float64(1), int64(3), object(6)\n",
            "memory usage: 7.6+ MB\n"
          ]
        }
      ],
      "source": [
        "df.info()"
      ]
    },
    {
      "cell_type": "code",
      "execution_count": null,
      "metadata": {
        "colab": {
          "base_uri": "https://localhost:8080/"
        },
        "id": "zZseCMhesXqr",
        "outputId": "b9f04d0e-8a87-4db2-ec2c-9d972fb50fcd"
      },
      "outputs": [
        {
          "output_type": "execute_result",
          "data": {
            "text/plain": [
              "             Income   Loan amount  Debt-to-income ratio            Age\n",
              "count  1.000000e+05  1.000000e+05         100000.000000  100000.000000\n",
              "mean   5.057175e+07  5.036878e+07             49.889717      48.976790\n",
              "std    2.861406e+07  2.870217e+07             28.848938      18.142279\n",
              "min    1.000405e+06  5.004110e+05              0.010000      18.000000\n",
              "25%    2.582899e+07  2.545562e+07             24.830000      33.000000\n",
              "50%    5.049926e+07  5.034737e+07             49.840000      49.000000\n",
              "75%    7.548670e+07  7.523911e+07             74.910000      65.000000\n",
              "max    9.999918e+07  9.999943e+07             99.990000      80.000000"
            ],
            "text/html": [
              "\n",
              "  <div id=\"df-8faed769-9b4c-4ecb-94b7-e44ef8981d22\">\n",
              "    <div class=\"colab-df-container\">\n",
              "      <div>\n",
              "<style scoped>\n",
              "    .dataframe tbody tr th:only-of-type {\n",
              "        vertical-align: middle;\n",
              "    }\n",
              "\n",
              "    .dataframe tbody tr th {\n",
              "        vertical-align: top;\n",
              "    }\n",
              "\n",
              "    .dataframe thead th {\n",
              "        text-align: right;\n",
              "    }\n",
              "</style>\n",
              "<table border=\"1\" class=\"dataframe\">\n",
              "  <thead>\n",
              "    <tr style=\"text-align: right;\">\n",
              "      <th></th>\n",
              "      <th>Income</th>\n",
              "      <th>Loan amount</th>\n",
              "      <th>Debt-to-income ratio</th>\n",
              "      <th>Age</th>\n",
              "    </tr>\n",
              "  </thead>\n",
              "  <tbody>\n",
              "    <tr>\n",
              "      <th>count</th>\n",
              "      <td>1.000000e+05</td>\n",
              "      <td>1.000000e+05</td>\n",
              "      <td>100000.000000</td>\n",
              "      <td>100000.000000</td>\n",
              "    </tr>\n",
              "    <tr>\n",
              "      <th>mean</th>\n",
              "      <td>5.057175e+07</td>\n",
              "      <td>5.036878e+07</td>\n",
              "      <td>49.889717</td>\n",
              "      <td>48.976790</td>\n",
              "    </tr>\n",
              "    <tr>\n",
              "      <th>std</th>\n",
              "      <td>2.861406e+07</td>\n",
              "      <td>2.870217e+07</td>\n",
              "      <td>28.848938</td>\n",
              "      <td>18.142279</td>\n",
              "    </tr>\n",
              "    <tr>\n",
              "      <th>min</th>\n",
              "      <td>1.000405e+06</td>\n",
              "      <td>5.004110e+05</td>\n",
              "      <td>0.010000</td>\n",
              "      <td>18.000000</td>\n",
              "    </tr>\n",
              "    <tr>\n",
              "      <th>25%</th>\n",
              "      <td>2.582899e+07</td>\n",
              "      <td>2.545562e+07</td>\n",
              "      <td>24.830000</td>\n",
              "      <td>33.000000</td>\n",
              "    </tr>\n",
              "    <tr>\n",
              "      <th>50%</th>\n",
              "      <td>5.049926e+07</td>\n",
              "      <td>5.034737e+07</td>\n",
              "      <td>49.840000</td>\n",
              "      <td>49.000000</td>\n",
              "    </tr>\n",
              "    <tr>\n",
              "      <th>75%</th>\n",
              "      <td>7.548670e+07</td>\n",
              "      <td>7.523911e+07</td>\n",
              "      <td>74.910000</td>\n",
              "      <td>65.000000</td>\n",
              "    </tr>\n",
              "    <tr>\n",
              "      <th>max</th>\n",
              "      <td>9.999918e+07</td>\n",
              "      <td>9.999943e+07</td>\n",
              "      <td>99.990000</td>\n",
              "      <td>80.000000</td>\n",
              "    </tr>\n",
              "  </tbody>\n",
              "</table>\n",
              "</div>\n",
              "      <button class=\"colab-df-convert\" onclick=\"convertToInteractive('df-8faed769-9b4c-4ecb-94b7-e44ef8981d22')\"\n",
              "              title=\"Convert this dataframe to an interactive table.\"\n",
              "              style=\"display:none;\">\n",
              "        \n",
              "  <svg xmlns=\"http://www.w3.org/2000/svg\" height=\"24px\"viewBox=\"0 0 24 24\"\n",
              "       width=\"24px\">\n",
              "    <path d=\"M0 0h24v24H0V0z\" fill=\"none\"/>\n",
              "    <path d=\"M18.56 5.44l.94 2.06.94-2.06 2.06-.94-2.06-.94-.94-2.06-.94 2.06-2.06.94zm-11 1L8.5 8.5l.94-2.06 2.06-.94-2.06-.94L8.5 2.5l-.94 2.06-2.06.94zm10 10l.94 2.06.94-2.06 2.06-.94-2.06-.94-.94-2.06-.94 2.06-2.06.94z\"/><path d=\"M17.41 7.96l-1.37-1.37c-.4-.4-.92-.59-1.43-.59-.52 0-1.04.2-1.43.59L10.3 9.45l-7.72 7.72c-.78.78-.78 2.05 0 2.83L4 21.41c.39.39.9.59 1.41.59.51 0 1.02-.2 1.41-.59l7.78-7.78 2.81-2.81c.8-.78.8-2.07 0-2.86zM5.41 20L4 18.59l7.72-7.72 1.47 1.35L5.41 20z\"/>\n",
              "  </svg>\n",
              "      </button>\n",
              "      \n",
              "  <style>\n",
              "    .colab-df-container {\n",
              "      display:flex;\n",
              "      flex-wrap:wrap;\n",
              "      gap: 12px;\n",
              "    }\n",
              "\n",
              "    .colab-df-convert {\n",
              "      background-color: #E8F0FE;\n",
              "      border: none;\n",
              "      border-radius: 50%;\n",
              "      cursor: pointer;\n",
              "      display: none;\n",
              "      fill: #1967D2;\n",
              "      height: 32px;\n",
              "      padding: 0 0 0 0;\n",
              "      width: 32px;\n",
              "    }\n",
              "\n",
              "    .colab-df-convert:hover {\n",
              "      background-color: #E2EBFA;\n",
              "      box-shadow: 0px 1px 2px rgba(60, 64, 67, 0.3), 0px 1px 3px 1px rgba(60, 64, 67, 0.15);\n",
              "      fill: #174EA6;\n",
              "    }\n",
              "\n",
              "    [theme=dark] .colab-df-convert {\n",
              "      background-color: #3B4455;\n",
              "      fill: #D2E3FC;\n",
              "    }\n",
              "\n",
              "    [theme=dark] .colab-df-convert:hover {\n",
              "      background-color: #434B5C;\n",
              "      box-shadow: 0px 1px 3px 1px rgba(0, 0, 0, 0.15);\n",
              "      filter: drop-shadow(0px 1px 2px rgba(0, 0, 0, 0.3));\n",
              "      fill: #FFFFFF;\n",
              "    }\n",
              "  </style>\n",
              "\n",
              "      <script>\n",
              "        const buttonEl =\n",
              "          document.querySelector('#df-8faed769-9b4c-4ecb-94b7-e44ef8981d22 button.colab-df-convert');\n",
              "        buttonEl.style.display =\n",
              "          google.colab.kernel.accessAllowed ? 'block' : 'none';\n",
              "\n",
              "        async function convertToInteractive(key) {\n",
              "          const element = document.querySelector('#df-8faed769-9b4c-4ecb-94b7-e44ef8981d22');\n",
              "          const dataTable =\n",
              "            await google.colab.kernel.invokeFunction('convertToInteractive',\n",
              "                                                     [key], {});\n",
              "          if (!dataTable) return;\n",
              "\n",
              "          const docLinkHtml = 'Like what you see? Visit the ' +\n",
              "            '<a target=\"_blank\" href=https://colab.research.google.com/notebooks/data_table.ipynb>data table notebook</a>'\n",
              "            + ' to learn more about interactive tables.';\n",
              "          element.innerHTML = '';\n",
              "          dataTable['output_type'] = 'display_data';\n",
              "          await google.colab.output.renderOutput(dataTable, element);\n",
              "          const docLink = document.createElement('div');\n",
              "          docLink.innerHTML = docLinkHtml;\n",
              "          element.appendChild(docLink);\n",
              "        }\n",
              "      </script>\n",
              "    </div>\n",
              "  </div>\n",
              "  "
            ]
          },
          "metadata": {},
          "execution_count": 18
        }
      ],
      "source": [
        "df.describe()"
      ]
    },
    {
      "cell_type": "markdown",
      "metadata": {
        "id": "vL3j9HGxtL-N"
      },
      "source": [
        "## Eksplorasi Data "
      ]
    },
    {
      "cell_type": "code",
      "execution_count": null,
      "metadata": {
        "id": "GC1M0vqNv_z6"
      },
      "outputs": [],
      "source": [
        "df2 = df"
      ]
    },
    {
      "cell_type": "markdown",
      "metadata": {
        "id": "DsN1jlQ7tQS0"
      },
      "source": [
        "### Transformasi Data"
      ]
    },
    {
      "cell_type": "code",
      "execution_count": null,
      "metadata": {
        "id": "ni5SW5cMt95I"
      },
      "outputs": [],
      "source": [
        "## MENGECUALIKAN ADDRESS\n",
        "df2.drop('Address', axis=1, inplace=True)\n"
      ]
    },
    {
      "cell_type": "code",
      "execution_count": null,
      "metadata": {
        "id": "wRLKwRG1tW8k"
      },
      "outputs": [],
      "source": [
        "from sklearn.preprocessing import LabelEncoder\n",
        "\n",
        "# Membuat objek LabelEncoder\n",
        "le = LabelEncoder()\n",
        "\n",
        "# Melakukan transformasi pada kolom Credit history\n",
        "df2['Credit history'] = le.fit_transform(df2['Credit history'])\n",
        "\n",
        "# Melakukan transformasi pada kolom Employment history\n",
        "df2['Employment history'] = le.fit_transform(df2['Employment history'])\n",
        "\n",
        "# Melakukan transformasi pada kolom Collateral\n",
        "df2['Collateral'] = le.fit_transform(df2['Collateral'])\n",
        "\n",
        "# Melakukan transformasi pada kolom Geographic location\n",
        "df2['Geographic location'] = le.fit_transform(df2['Geographic location'])\n",
        "\n",
        "# Melakukan transformasi pada kolom Education level\n",
        "df2['Education level'] = le.fit_transform(df2['Education level'])\n",
        "\n",
        "# Melakukan transformasi pada kolom Address\n",
        "#df['Address'] = le.fit_transform(df['Address'])\n"
      ]
    },
    {
      "cell_type": "code",
      "execution_count": null,
      "metadata": {
        "colab": {
          "base_uri": "https://localhost:8080/",
          "height": 479
        },
        "id": "ECfJOcUvuG3T",
        "outputId": "58229640-eb8f-458c-9329-cfb29480c56b"
      },
      "outputs": [
        {
          "output_type": "execute_result",
          "data": {
            "text/plain": [
              "   Credit history    Income  Employment history  Loan amount  Collateral  \\\n",
              "0               0  80335815                   4     64883460           4   \n",
              "1               1  94819076                   4     96794719           0   \n",
              "2               3  18711458                   1     10040710           1   \n",
              "3               1  72132326                   2     66521910           3   \n",
              "4               3  83841609                   1     80403539           0   \n",
              "5               0  72496835                   3     87622996           4   \n",
              "6               1  46028030                   0     28148236           1   \n",
              "7               0  58426228                   0     19628786           1   \n",
              "8               1  65152635                   2     38379434           1   \n",
              "9               3  43491269                   4     74438831           4   \n",
              "\n",
              "   Debt-to-income ratio  Geographic location  Age  Education level  \n",
              "0                 26.89                   14   48                6  \n",
              "1                  3.36                   24   29                5  \n",
              "2                 24.27                   18   63                0  \n",
              "3                  3.13                   16   58                4  \n",
              "4                 43.11                   31   21                2  \n",
              "5                 77.75                   20   76                2  \n",
              "6                 80.56                   25   55                2  \n",
              "7                 32.66                    8   75                4  \n",
              "8                 84.15                    0   56                1  \n",
              "9                 65.84                   30   75                0  "
            ],
            "text/html": [
              "\n",
              "  <div id=\"df-3238379e-e1ce-47bf-add2-a0376bccf637\">\n",
              "    <div class=\"colab-df-container\">\n",
              "      <div>\n",
              "<style scoped>\n",
              "    .dataframe tbody tr th:only-of-type {\n",
              "        vertical-align: middle;\n",
              "    }\n",
              "\n",
              "    .dataframe tbody tr th {\n",
              "        vertical-align: top;\n",
              "    }\n",
              "\n",
              "    .dataframe thead th {\n",
              "        text-align: right;\n",
              "    }\n",
              "</style>\n",
              "<table border=\"1\" class=\"dataframe\">\n",
              "  <thead>\n",
              "    <tr style=\"text-align: right;\">\n",
              "      <th></th>\n",
              "      <th>Credit history</th>\n",
              "      <th>Income</th>\n",
              "      <th>Employment history</th>\n",
              "      <th>Loan amount</th>\n",
              "      <th>Collateral</th>\n",
              "      <th>Debt-to-income ratio</th>\n",
              "      <th>Geographic location</th>\n",
              "      <th>Age</th>\n",
              "      <th>Education level</th>\n",
              "    </tr>\n",
              "  </thead>\n",
              "  <tbody>\n",
              "    <tr>\n",
              "      <th>0</th>\n",
              "      <td>0</td>\n",
              "      <td>80335815</td>\n",
              "      <td>4</td>\n",
              "      <td>64883460</td>\n",
              "      <td>4</td>\n",
              "      <td>26.89</td>\n",
              "      <td>14</td>\n",
              "      <td>48</td>\n",
              "      <td>6</td>\n",
              "    </tr>\n",
              "    <tr>\n",
              "      <th>1</th>\n",
              "      <td>1</td>\n",
              "      <td>94819076</td>\n",
              "      <td>4</td>\n",
              "      <td>96794719</td>\n",
              "      <td>0</td>\n",
              "      <td>3.36</td>\n",
              "      <td>24</td>\n",
              "      <td>29</td>\n",
              "      <td>5</td>\n",
              "    </tr>\n",
              "    <tr>\n",
              "      <th>2</th>\n",
              "      <td>3</td>\n",
              "      <td>18711458</td>\n",
              "      <td>1</td>\n",
              "      <td>10040710</td>\n",
              "      <td>1</td>\n",
              "      <td>24.27</td>\n",
              "      <td>18</td>\n",
              "      <td>63</td>\n",
              "      <td>0</td>\n",
              "    </tr>\n",
              "    <tr>\n",
              "      <th>3</th>\n",
              "      <td>1</td>\n",
              "      <td>72132326</td>\n",
              "      <td>2</td>\n",
              "      <td>66521910</td>\n",
              "      <td>3</td>\n",
              "      <td>3.13</td>\n",
              "      <td>16</td>\n",
              "      <td>58</td>\n",
              "      <td>4</td>\n",
              "    </tr>\n",
              "    <tr>\n",
              "      <th>4</th>\n",
              "      <td>3</td>\n",
              "      <td>83841609</td>\n",
              "      <td>1</td>\n",
              "      <td>80403539</td>\n",
              "      <td>0</td>\n",
              "      <td>43.11</td>\n",
              "      <td>31</td>\n",
              "      <td>21</td>\n",
              "      <td>2</td>\n",
              "    </tr>\n",
              "    <tr>\n",
              "      <th>5</th>\n",
              "      <td>0</td>\n",
              "      <td>72496835</td>\n",
              "      <td>3</td>\n",
              "      <td>87622996</td>\n",
              "      <td>4</td>\n",
              "      <td>77.75</td>\n",
              "      <td>20</td>\n",
              "      <td>76</td>\n",
              "      <td>2</td>\n",
              "    </tr>\n",
              "    <tr>\n",
              "      <th>6</th>\n",
              "      <td>1</td>\n",
              "      <td>46028030</td>\n",
              "      <td>0</td>\n",
              "      <td>28148236</td>\n",
              "      <td>1</td>\n",
              "      <td>80.56</td>\n",
              "      <td>25</td>\n",
              "      <td>55</td>\n",
              "      <td>2</td>\n",
              "    </tr>\n",
              "    <tr>\n",
              "      <th>7</th>\n",
              "      <td>0</td>\n",
              "      <td>58426228</td>\n",
              "      <td>0</td>\n",
              "      <td>19628786</td>\n",
              "      <td>1</td>\n",
              "      <td>32.66</td>\n",
              "      <td>8</td>\n",
              "      <td>75</td>\n",
              "      <td>4</td>\n",
              "    </tr>\n",
              "    <tr>\n",
              "      <th>8</th>\n",
              "      <td>1</td>\n",
              "      <td>65152635</td>\n",
              "      <td>2</td>\n",
              "      <td>38379434</td>\n",
              "      <td>1</td>\n",
              "      <td>84.15</td>\n",
              "      <td>0</td>\n",
              "      <td>56</td>\n",
              "      <td>1</td>\n",
              "    </tr>\n",
              "    <tr>\n",
              "      <th>9</th>\n",
              "      <td>3</td>\n",
              "      <td>43491269</td>\n",
              "      <td>4</td>\n",
              "      <td>74438831</td>\n",
              "      <td>4</td>\n",
              "      <td>65.84</td>\n",
              "      <td>30</td>\n",
              "      <td>75</td>\n",
              "      <td>0</td>\n",
              "    </tr>\n",
              "  </tbody>\n",
              "</table>\n",
              "</div>\n",
              "      <button class=\"colab-df-convert\" onclick=\"convertToInteractive('df-3238379e-e1ce-47bf-add2-a0376bccf637')\"\n",
              "              title=\"Convert this dataframe to an interactive table.\"\n",
              "              style=\"display:none;\">\n",
              "        \n",
              "  <svg xmlns=\"http://www.w3.org/2000/svg\" height=\"24px\"viewBox=\"0 0 24 24\"\n",
              "       width=\"24px\">\n",
              "    <path d=\"M0 0h24v24H0V0z\" fill=\"none\"/>\n",
              "    <path d=\"M18.56 5.44l.94 2.06.94-2.06 2.06-.94-2.06-.94-.94-2.06-.94 2.06-2.06.94zm-11 1L8.5 8.5l.94-2.06 2.06-.94-2.06-.94L8.5 2.5l-.94 2.06-2.06.94zm10 10l.94 2.06.94-2.06 2.06-.94-2.06-.94-.94-2.06-.94 2.06-2.06.94z\"/><path d=\"M17.41 7.96l-1.37-1.37c-.4-.4-.92-.59-1.43-.59-.52 0-1.04.2-1.43.59L10.3 9.45l-7.72 7.72c-.78.78-.78 2.05 0 2.83L4 21.41c.39.39.9.59 1.41.59.51 0 1.02-.2 1.41-.59l7.78-7.78 2.81-2.81c.8-.78.8-2.07 0-2.86zM5.41 20L4 18.59l7.72-7.72 1.47 1.35L5.41 20z\"/>\n",
              "  </svg>\n",
              "      </button>\n",
              "      \n",
              "  <style>\n",
              "    .colab-df-container {\n",
              "      display:flex;\n",
              "      flex-wrap:wrap;\n",
              "      gap: 12px;\n",
              "    }\n",
              "\n",
              "    .colab-df-convert {\n",
              "      background-color: #E8F0FE;\n",
              "      border: none;\n",
              "      border-radius: 50%;\n",
              "      cursor: pointer;\n",
              "      display: none;\n",
              "      fill: #1967D2;\n",
              "      height: 32px;\n",
              "      padding: 0 0 0 0;\n",
              "      width: 32px;\n",
              "    }\n",
              "\n",
              "    .colab-df-convert:hover {\n",
              "      background-color: #E2EBFA;\n",
              "      box-shadow: 0px 1px 2px rgba(60, 64, 67, 0.3), 0px 1px 3px 1px rgba(60, 64, 67, 0.15);\n",
              "      fill: #174EA6;\n",
              "    }\n",
              "\n",
              "    [theme=dark] .colab-df-convert {\n",
              "      background-color: #3B4455;\n",
              "      fill: #D2E3FC;\n",
              "    }\n",
              "\n",
              "    [theme=dark] .colab-df-convert:hover {\n",
              "      background-color: #434B5C;\n",
              "      box-shadow: 0px 1px 3px 1px rgba(0, 0, 0, 0.15);\n",
              "      filter: drop-shadow(0px 1px 2px rgba(0, 0, 0, 0.3));\n",
              "      fill: #FFFFFF;\n",
              "    }\n",
              "  </style>\n",
              "\n",
              "      <script>\n",
              "        const buttonEl =\n",
              "          document.querySelector('#df-3238379e-e1ce-47bf-add2-a0376bccf637 button.colab-df-convert');\n",
              "        buttonEl.style.display =\n",
              "          google.colab.kernel.accessAllowed ? 'block' : 'none';\n",
              "\n",
              "        async function convertToInteractive(key) {\n",
              "          const element = document.querySelector('#df-3238379e-e1ce-47bf-add2-a0376bccf637');\n",
              "          const dataTable =\n",
              "            await google.colab.kernel.invokeFunction('convertToInteractive',\n",
              "                                                     [key], {});\n",
              "          if (!dataTable) return;\n",
              "\n",
              "          const docLinkHtml = 'Like what you see? Visit the ' +\n",
              "            '<a target=\"_blank\" href=https://colab.research.google.com/notebooks/data_table.ipynb>data table notebook</a>'\n",
              "            + ' to learn more about interactive tables.';\n",
              "          element.innerHTML = '';\n",
              "          dataTable['output_type'] = 'display_data';\n",
              "          await google.colab.output.renderOutput(dataTable, element);\n",
              "          const docLink = document.createElement('div');\n",
              "          docLink.innerHTML = docLinkHtml;\n",
              "          element.appendChild(docLink);\n",
              "        }\n",
              "      </script>\n",
              "    </div>\n",
              "  </div>\n",
              "  "
            ]
          },
          "metadata": {},
          "execution_count": 22
        }
      ],
      "source": [
        "df2.head(10)"
      ]
    },
    {
      "cell_type": "code",
      "execution_count": null,
      "metadata": {
        "id": "gggH2TMtuL6e"
      },
      "outputs": [],
      "source": [
        "\"\"\"\n",
        "# Melakukan One-Hot Encoding pada kolom Credit history\n",
        "df = pd.concat([df, pd.get_dummies(df['Credit history'], prefix='Credit')], axis=1)\n",
        "df.drop('Credit history', axis=1, inplace=True)\n",
        "\n",
        "# Melakukan One-Hot Encoding pada kolom Employment history\n",
        "df = pd.concat([df, pd.get_dummies(df['Employment history'], prefix='Employment')], axis=1)\n",
        "df.drop('Employment history', axis=1, inplace=True)\n",
        "\n",
        "# Melakukan One-Hot Encoding pada kolom Collateral\n",
        "df = pd.concat([df, pd.get_dummies(df['Collateral'], prefix='Collateral')], axis=1)\n",
        "df.drop('Collateral', axis=1, inplace=True)\n",
        "\n",
        "# Melakukan One-Hot Encoding pada kolom Geographic location\n",
        "df = pd.concat([df, pd.get_dummies(df['Geographic location'], prefix='Location')], axis=1)\n",
        "df.drop('Geographic location', axis=1, inplace=True)\n",
        "\n",
        "# Melakukan One-Hot Encoding pada kolom Education level\n",
        "df = pd.concat([df, pd.get_dummies(df['Education level'], prefix='Education')], axis=1)\n",
        "df.drop('Education level', axis=1, inplace=True)\n",
        "\n",
        "# Melakukan One-Hot Encoding pada kolom Address\n",
        "df = pd.concat([df, pd.get_dummies(df['Address'], prefix='Address')], axis=1)\n",
        "df.drop('Address', axis=1, inplace=True)\n",
        "\"\"\""
      ]
    },
    {
      "cell_type": "markdown",
      "metadata": {
        "id": "T9-BUlVSvZ-s"
      },
      "source": [
        "### Analisis Statistikal"
      ]
    },
    {
      "cell_type": "markdown",
      "metadata": {
        "id": "7ILopy84xd-D"
      },
      "source": [
        "#### STD, OUTLIER DLL"
      ]
    },
    {
      "cell_type": "markdown",
      "metadata": {
        "id": "mRu38CpGtUNC"
      },
      "source": [
        "### Normalisasi Data"
      ]
    },
    {
      "cell_type": "code",
      "execution_count": null,
      "metadata": {
        "id": "1FvGOgc7wLNA"
      },
      "outputs": [],
      "source": [
        "df3 = df2"
      ]
    },
    {
      "cell_type": "code",
      "execution_count": null,
      "metadata": {
        "id": "9JXQwylPuwMr"
      },
      "outputs": [],
      "source": [
        "from sklearn.preprocessing import MinMaxScaler\n",
        "from sklearn.preprocessing import StandardScaler\n",
        "\n",
        "\n",
        "\n",
        "scaler = MinMaxScaler()\n",
        "\n",
        "# Membuat objek scaler\n",
        "scaler2 = StandardScaler()"
      ]
    },
    {
      "cell_type": "code",
      "execution_count": null,
      "metadata": {
        "id": "iYdw3_M9W2M7"
      },
      "outputs": [],
      "source": [
        "df4 = df3"
      ]
    },
    {
      "cell_type": "code",
      "execution_count": null,
      "metadata": {
        "id": "i90xR0hLXRau"
      },
      "outputs": [],
      "source": [
        "df4 = pd.DataFrame(scaler.fit_transform(df4), columns=df4.columns)\n"
      ]
    },
    {
      "cell_type": "code",
      "execution_count": null,
      "metadata": {
        "colab": {
          "base_uri": "https://localhost:8080/",
          "height": 479
        },
        "id": "4d8KwaiWu6LF",
        "outputId": "8cc40378-0f40-478b-c84f-2808c7d81978"
      },
      "outputs": [
        {
          "output_type": "execute_result",
          "data": {
            "text/plain": [
              "   Credit history    Income  Employment history  Loan amount  Collateral  \\\n",
              "0        0.000000  0.801378                1.00     0.647072        1.00   \n",
              "1        0.333333  0.947675                1.00     0.967792        0.00   \n",
              "2        1.000000  0.178902                0.25     0.095883        0.25   \n",
              "3        0.333333  0.718513                0.50     0.663539        0.75   \n",
              "4        1.000000  0.836790                0.25     0.803054        0.00   \n",
              "5        0.000000  0.722195                0.75     0.875613        1.00   \n",
              "6        0.333333  0.454830                0.00     0.277870        0.25   \n",
              "7        0.000000  0.580066                0.00     0.192247        0.25   \n",
              "8        0.333333  0.648010                0.50     0.380697        0.25   \n",
              "9        1.000000  0.429206                1.00     0.743107        1.00   \n",
              "\n",
              "   Debt-to-income ratio  Geographic location       Age  Education level  \n",
              "0              0.268854             0.424242  0.483871         1.000000  \n",
              "1              0.033507             0.727273  0.177419         0.833333  \n",
              "2              0.242649             0.545455  0.725806         0.000000  \n",
              "3              0.031206             0.484848  0.645161         0.666667  \n",
              "4              0.431086             0.939394  0.048387         0.333333  \n",
              "5              0.777556             0.606061  0.935484         0.333333  \n",
              "6              0.805661             0.757576  0.596774         0.333333  \n",
              "7              0.326565             0.242424  0.919355         0.666667  \n",
              "8              0.841568             0.000000  0.612903         0.166667  \n",
              "9              0.658432             0.909091  0.919355         0.000000  "
            ],
            "text/html": [
              "\n",
              "  <div id=\"df-422ce162-e00f-450b-bc2f-ad608d61a64c\">\n",
              "    <div class=\"colab-df-container\">\n",
              "      <div>\n",
              "<style scoped>\n",
              "    .dataframe tbody tr th:only-of-type {\n",
              "        vertical-align: middle;\n",
              "    }\n",
              "\n",
              "    .dataframe tbody tr th {\n",
              "        vertical-align: top;\n",
              "    }\n",
              "\n",
              "    .dataframe thead th {\n",
              "        text-align: right;\n",
              "    }\n",
              "</style>\n",
              "<table border=\"1\" class=\"dataframe\">\n",
              "  <thead>\n",
              "    <tr style=\"text-align: right;\">\n",
              "      <th></th>\n",
              "      <th>Credit history</th>\n",
              "      <th>Income</th>\n",
              "      <th>Employment history</th>\n",
              "      <th>Loan amount</th>\n",
              "      <th>Collateral</th>\n",
              "      <th>Debt-to-income ratio</th>\n",
              "      <th>Geographic location</th>\n",
              "      <th>Age</th>\n",
              "      <th>Education level</th>\n",
              "    </tr>\n",
              "  </thead>\n",
              "  <tbody>\n",
              "    <tr>\n",
              "      <th>0</th>\n",
              "      <td>0.000000</td>\n",
              "      <td>0.801378</td>\n",
              "      <td>1.00</td>\n",
              "      <td>0.647072</td>\n",
              "      <td>1.00</td>\n",
              "      <td>0.268854</td>\n",
              "      <td>0.424242</td>\n",
              "      <td>0.483871</td>\n",
              "      <td>1.000000</td>\n",
              "    </tr>\n",
              "    <tr>\n",
              "      <th>1</th>\n",
              "      <td>0.333333</td>\n",
              "      <td>0.947675</td>\n",
              "      <td>1.00</td>\n",
              "      <td>0.967792</td>\n",
              "      <td>0.00</td>\n",
              "      <td>0.033507</td>\n",
              "      <td>0.727273</td>\n",
              "      <td>0.177419</td>\n",
              "      <td>0.833333</td>\n",
              "    </tr>\n",
              "    <tr>\n",
              "      <th>2</th>\n",
              "      <td>1.000000</td>\n",
              "      <td>0.178902</td>\n",
              "      <td>0.25</td>\n",
              "      <td>0.095883</td>\n",
              "      <td>0.25</td>\n",
              "      <td>0.242649</td>\n",
              "      <td>0.545455</td>\n",
              "      <td>0.725806</td>\n",
              "      <td>0.000000</td>\n",
              "    </tr>\n",
              "    <tr>\n",
              "      <th>3</th>\n",
              "      <td>0.333333</td>\n",
              "      <td>0.718513</td>\n",
              "      <td>0.50</td>\n",
              "      <td>0.663539</td>\n",
              "      <td>0.75</td>\n",
              "      <td>0.031206</td>\n",
              "      <td>0.484848</td>\n",
              "      <td>0.645161</td>\n",
              "      <td>0.666667</td>\n",
              "    </tr>\n",
              "    <tr>\n",
              "      <th>4</th>\n",
              "      <td>1.000000</td>\n",
              "      <td>0.836790</td>\n",
              "      <td>0.25</td>\n",
              "      <td>0.803054</td>\n",
              "      <td>0.00</td>\n",
              "      <td>0.431086</td>\n",
              "      <td>0.939394</td>\n",
              "      <td>0.048387</td>\n",
              "      <td>0.333333</td>\n",
              "    </tr>\n",
              "    <tr>\n",
              "      <th>5</th>\n",
              "      <td>0.000000</td>\n",
              "      <td>0.722195</td>\n",
              "      <td>0.75</td>\n",
              "      <td>0.875613</td>\n",
              "      <td>1.00</td>\n",
              "      <td>0.777556</td>\n",
              "      <td>0.606061</td>\n",
              "      <td>0.935484</td>\n",
              "      <td>0.333333</td>\n",
              "    </tr>\n",
              "    <tr>\n",
              "      <th>6</th>\n",
              "      <td>0.333333</td>\n",
              "      <td>0.454830</td>\n",
              "      <td>0.00</td>\n",
              "      <td>0.277870</td>\n",
              "      <td>0.25</td>\n",
              "      <td>0.805661</td>\n",
              "      <td>0.757576</td>\n",
              "      <td>0.596774</td>\n",
              "      <td>0.333333</td>\n",
              "    </tr>\n",
              "    <tr>\n",
              "      <th>7</th>\n",
              "      <td>0.000000</td>\n",
              "      <td>0.580066</td>\n",
              "      <td>0.00</td>\n",
              "      <td>0.192247</td>\n",
              "      <td>0.25</td>\n",
              "      <td>0.326565</td>\n",
              "      <td>0.242424</td>\n",
              "      <td>0.919355</td>\n",
              "      <td>0.666667</td>\n",
              "    </tr>\n",
              "    <tr>\n",
              "      <th>8</th>\n",
              "      <td>0.333333</td>\n",
              "      <td>0.648010</td>\n",
              "      <td>0.50</td>\n",
              "      <td>0.380697</td>\n",
              "      <td>0.25</td>\n",
              "      <td>0.841568</td>\n",
              "      <td>0.000000</td>\n",
              "      <td>0.612903</td>\n",
              "      <td>0.166667</td>\n",
              "    </tr>\n",
              "    <tr>\n",
              "      <th>9</th>\n",
              "      <td>1.000000</td>\n",
              "      <td>0.429206</td>\n",
              "      <td>1.00</td>\n",
              "      <td>0.743107</td>\n",
              "      <td>1.00</td>\n",
              "      <td>0.658432</td>\n",
              "      <td>0.909091</td>\n",
              "      <td>0.919355</td>\n",
              "      <td>0.000000</td>\n",
              "    </tr>\n",
              "  </tbody>\n",
              "</table>\n",
              "</div>\n",
              "      <button class=\"colab-df-convert\" onclick=\"convertToInteractive('df-422ce162-e00f-450b-bc2f-ad608d61a64c')\"\n",
              "              title=\"Convert this dataframe to an interactive table.\"\n",
              "              style=\"display:none;\">\n",
              "        \n",
              "  <svg xmlns=\"http://www.w3.org/2000/svg\" height=\"24px\"viewBox=\"0 0 24 24\"\n",
              "       width=\"24px\">\n",
              "    <path d=\"M0 0h24v24H0V0z\" fill=\"none\"/>\n",
              "    <path d=\"M18.56 5.44l.94 2.06.94-2.06 2.06-.94-2.06-.94-.94-2.06-.94 2.06-2.06.94zm-11 1L8.5 8.5l.94-2.06 2.06-.94-2.06-.94L8.5 2.5l-.94 2.06-2.06.94zm10 10l.94 2.06.94-2.06 2.06-.94-2.06-.94-.94-2.06-.94 2.06-2.06.94z\"/><path d=\"M17.41 7.96l-1.37-1.37c-.4-.4-.92-.59-1.43-.59-.52 0-1.04.2-1.43.59L10.3 9.45l-7.72 7.72c-.78.78-.78 2.05 0 2.83L4 21.41c.39.39.9.59 1.41.59.51 0 1.02-.2 1.41-.59l7.78-7.78 2.81-2.81c.8-.78.8-2.07 0-2.86zM5.41 20L4 18.59l7.72-7.72 1.47 1.35L5.41 20z\"/>\n",
              "  </svg>\n",
              "      </button>\n",
              "      \n",
              "  <style>\n",
              "    .colab-df-container {\n",
              "      display:flex;\n",
              "      flex-wrap:wrap;\n",
              "      gap: 12px;\n",
              "    }\n",
              "\n",
              "    .colab-df-convert {\n",
              "      background-color: #E8F0FE;\n",
              "      border: none;\n",
              "      border-radius: 50%;\n",
              "      cursor: pointer;\n",
              "      display: none;\n",
              "      fill: #1967D2;\n",
              "      height: 32px;\n",
              "      padding: 0 0 0 0;\n",
              "      width: 32px;\n",
              "    }\n",
              "\n",
              "    .colab-df-convert:hover {\n",
              "      background-color: #E2EBFA;\n",
              "      box-shadow: 0px 1px 2px rgba(60, 64, 67, 0.3), 0px 1px 3px 1px rgba(60, 64, 67, 0.15);\n",
              "      fill: #174EA6;\n",
              "    }\n",
              "\n",
              "    [theme=dark] .colab-df-convert {\n",
              "      background-color: #3B4455;\n",
              "      fill: #D2E3FC;\n",
              "    }\n",
              "\n",
              "    [theme=dark] .colab-df-convert:hover {\n",
              "      background-color: #434B5C;\n",
              "      box-shadow: 0px 1px 3px 1px rgba(0, 0, 0, 0.15);\n",
              "      filter: drop-shadow(0px 1px 2px rgba(0, 0, 0, 0.3));\n",
              "      fill: #FFFFFF;\n",
              "    }\n",
              "  </style>\n",
              "\n",
              "      <script>\n",
              "        const buttonEl =\n",
              "          document.querySelector('#df-422ce162-e00f-450b-bc2f-ad608d61a64c button.colab-df-convert');\n",
              "        buttonEl.style.display =\n",
              "          google.colab.kernel.accessAllowed ? 'block' : 'none';\n",
              "\n",
              "        async function convertToInteractive(key) {\n",
              "          const element = document.querySelector('#df-422ce162-e00f-450b-bc2f-ad608d61a64c');\n",
              "          const dataTable =\n",
              "            await google.colab.kernel.invokeFunction('convertToInteractive',\n",
              "                                                     [key], {});\n",
              "          if (!dataTable) return;\n",
              "\n",
              "          const docLinkHtml = 'Like what you see? Visit the ' +\n",
              "            '<a target=\"_blank\" href=https://colab.research.google.com/notebooks/data_table.ipynb>data table notebook</a>'\n",
              "            + ' to learn more about interactive tables.';\n",
              "          element.innerHTML = '';\n",
              "          dataTable['output_type'] = 'display_data';\n",
              "          await google.colab.output.renderOutput(dataTable, element);\n",
              "          const docLink = document.createElement('div');\n",
              "          docLink.innerHTML = docLinkHtml;\n",
              "          element.appendChild(docLink);\n",
              "        }\n",
              "      </script>\n",
              "    </div>\n",
              "  </div>\n",
              "  "
            ]
          },
          "metadata": {},
          "execution_count": 27
        }
      ],
      "source": [
        "df4.head(10)"
      ]
    },
    {
      "cell_type": "code",
      "execution_count": null,
      "metadata": {
        "colab": {
          "background_save": true
        },
        "id": "6KvkXIkwvH4c",
        "outputId": "de21faf8-0db9-404e-beae-ebf2390259f0"
      },
      "outputs": [
        {
          "data": {
            "application/vnd.google.colaboratory.intrinsic+json": {
              "type": "string"
            },
            "text/plain": [
              "\"\\n\\n# Melakukan normalisasi pada kolom Income\\ndf['Income'] = scaler.fit_transform(df[['Income']])\\n\\n# Melakukan normalisasi pada kolom Loan amount\\ndf['Loan amount'] = scaler.fit_transform(df[['Loan amount']])\\n\\n# Melakukan normalisasi pada kolom Debt-to-income ratio\\ndf['Debt-to-income ratio'] = scaler.fit_transform(df[['Debt-to-income ratio']])\\n\\n# Melakukan normalisasi pada kolom Age\\ndf['Age'] = scaler.fit_transform(df[['Age']])\\n\""
            ]
          },
          "execution_count": 19,
          "metadata": {},
          "output_type": "execute_result"
        }
      ],
      "source": [
        "\"\"\"\n",
        "\n",
        "# Melakukan normalisasi pada kolom Income\n",
        "df['Income'] = scaler.fit_transform(df[['Income']])\n",
        "\n",
        "# Melakukan normalisasi pada kolom Loan amount\n",
        "df['Loan amount'] = scaler.fit_transform(df[['Loan amount']])\n",
        "\n",
        "# Melakukan normalisasi pada kolom Debt-to-income ratio\n",
        "df['Debt-to-income ratio'] = scaler.fit_transform(df[['Debt-to-income ratio']])\n",
        "\n",
        "# Melakukan normalisasi pada kolom Age\n",
        "df['Age'] = scaler.fit_transform(df[['Age']])\n",
        "\"\"\""
      ]
    },
    {
      "cell_type": "markdown",
      "metadata": {
        "id": "7CDSgM7XxtvD"
      },
      "source": [
        "### Pemodelan Clustering : KMeans, DBSCAN, Hierarcical"
      ]
    },
    {
      "cell_type": "markdown",
      "metadata": {
        "id": "RZMuwvgmyXOa"
      },
      "source": [
        "ADDITIONAL : Fuzzy C-Means Clustering, Spectral Clustering, Affinity Propagation, Mean-Shift"
      ]
    },
    {
      "cell_type": "code",
      "execution_count": null,
      "metadata": {
        "id": "rHxzHJH3YpJs"
      },
      "outputs": [],
      "source": [
        "df5 = df4"
      ]
    },
    {
      "cell_type": "markdown",
      "metadata": {
        "id": "8HdVphWLYWQk"
      },
      "source": [
        "#### KMeans"
      ]
    },
    {
      "cell_type": "code",
      "execution_count": null,
      "metadata": {
        "id": "E78yO_otdhG1"
      },
      "outputs": [],
      "source": [
        "dfkmeans = df5"
      ]
    },
    {
      "cell_type": "code",
      "execution_count": null,
      "metadata": {
        "id": "dkZGdhXGyDkz"
      },
      "outputs": [],
      "source": [
        "from sklearn.cluster import KMeans"
      ]
    },
    {
      "cell_type": "code",
      "execution_count": null,
      "metadata": {
        "colab": {
          "base_uri": "https://localhost:8080/"
        },
        "id": "ltNgLIzOyCoe",
        "outputId": "9fa8ee1b-ee4c-4e66-d6dd-331a6a14c934"
      },
      "outputs": [
        {
          "output_type": "execute_result",
          "data": {
            "text/plain": [
              "KMeans(n_clusters=2)"
            ]
          },
          "metadata": {},
          "execution_count": 31
        }
      ],
      "source": [
        "kmeans = KMeans(n_clusters=2)\n",
        "kmeans.fit(df5)\n"
      ]
    },
    {
      "cell_type": "code",
      "execution_count": null,
      "metadata": {
        "id": "yeZd9lXuxswl"
      },
      "outputs": [],
      "source": [
        "cluster_labels = kmeans.labels_\n",
        "df5['Cluster'] = cluster_labels"
      ]
    },
    {
      "cell_type": "code",
      "execution_count": null,
      "metadata": {
        "colab": {
          "base_uri": "https://localhost:8080/",
          "height": 322
        },
        "id": "JuUyAAFOZHjB",
        "outputId": "a0ac86c1-7073-4670-a708-0e60e4eb04e9"
      },
      "outputs": [
        {
          "output_type": "execute_result",
          "data": {
            "text/plain": [
              "   Credit history    Income  Employment history  Loan amount  Collateral  \\\n",
              "0        0.000000  0.801378                1.00     0.647072        1.00   \n",
              "1        0.333333  0.947675                1.00     0.967792        0.00   \n",
              "2        1.000000  0.178902                0.25     0.095883        0.25   \n",
              "3        0.333333  0.718513                0.50     0.663539        0.75   \n",
              "4        1.000000  0.836790                0.25     0.803054        0.00   \n",
              "\n",
              "   Debt-to-income ratio  Geographic location       Age  Education level  \\\n",
              "0              0.268854             0.424242  0.483871         1.000000   \n",
              "1              0.033507             0.727273  0.177419         0.833333   \n",
              "2              0.242649             0.545455  0.725806         0.000000   \n",
              "3              0.031206             0.484848  0.645161         0.666667   \n",
              "4              0.431086             0.939394  0.048387         0.333333   \n",
              "\n",
              "   Cluster  \n",
              "0        1  \n",
              "1        1  \n",
              "2        0  \n",
              "3        1  \n",
              "4        0  "
            ],
            "text/html": [
              "\n",
              "  <div id=\"df-05ffdbc8-be70-42fb-b253-85500cd552ef\">\n",
              "    <div class=\"colab-df-container\">\n",
              "      <div>\n",
              "<style scoped>\n",
              "    .dataframe tbody tr th:only-of-type {\n",
              "        vertical-align: middle;\n",
              "    }\n",
              "\n",
              "    .dataframe tbody tr th {\n",
              "        vertical-align: top;\n",
              "    }\n",
              "\n",
              "    .dataframe thead th {\n",
              "        text-align: right;\n",
              "    }\n",
              "</style>\n",
              "<table border=\"1\" class=\"dataframe\">\n",
              "  <thead>\n",
              "    <tr style=\"text-align: right;\">\n",
              "      <th></th>\n",
              "      <th>Credit history</th>\n",
              "      <th>Income</th>\n",
              "      <th>Employment history</th>\n",
              "      <th>Loan amount</th>\n",
              "      <th>Collateral</th>\n",
              "      <th>Debt-to-income ratio</th>\n",
              "      <th>Geographic location</th>\n",
              "      <th>Age</th>\n",
              "      <th>Education level</th>\n",
              "      <th>Cluster</th>\n",
              "    </tr>\n",
              "  </thead>\n",
              "  <tbody>\n",
              "    <tr>\n",
              "      <th>0</th>\n",
              "      <td>0.000000</td>\n",
              "      <td>0.801378</td>\n",
              "      <td>1.00</td>\n",
              "      <td>0.647072</td>\n",
              "      <td>1.00</td>\n",
              "      <td>0.268854</td>\n",
              "      <td>0.424242</td>\n",
              "      <td>0.483871</td>\n",
              "      <td>1.000000</td>\n",
              "      <td>1</td>\n",
              "    </tr>\n",
              "    <tr>\n",
              "      <th>1</th>\n",
              "      <td>0.333333</td>\n",
              "      <td>0.947675</td>\n",
              "      <td>1.00</td>\n",
              "      <td>0.967792</td>\n",
              "      <td>0.00</td>\n",
              "      <td>0.033507</td>\n",
              "      <td>0.727273</td>\n",
              "      <td>0.177419</td>\n",
              "      <td>0.833333</td>\n",
              "      <td>1</td>\n",
              "    </tr>\n",
              "    <tr>\n",
              "      <th>2</th>\n",
              "      <td>1.000000</td>\n",
              "      <td>0.178902</td>\n",
              "      <td>0.25</td>\n",
              "      <td>0.095883</td>\n",
              "      <td>0.25</td>\n",
              "      <td>0.242649</td>\n",
              "      <td>0.545455</td>\n",
              "      <td>0.725806</td>\n",
              "      <td>0.000000</td>\n",
              "      <td>0</td>\n",
              "    </tr>\n",
              "    <tr>\n",
              "      <th>3</th>\n",
              "      <td>0.333333</td>\n",
              "      <td>0.718513</td>\n",
              "      <td>0.50</td>\n",
              "      <td>0.663539</td>\n",
              "      <td>0.75</td>\n",
              "      <td>0.031206</td>\n",
              "      <td>0.484848</td>\n",
              "      <td>0.645161</td>\n",
              "      <td>0.666667</td>\n",
              "      <td>1</td>\n",
              "    </tr>\n",
              "    <tr>\n",
              "      <th>4</th>\n",
              "      <td>1.000000</td>\n",
              "      <td>0.836790</td>\n",
              "      <td>0.25</td>\n",
              "      <td>0.803054</td>\n",
              "      <td>0.00</td>\n",
              "      <td>0.431086</td>\n",
              "      <td>0.939394</td>\n",
              "      <td>0.048387</td>\n",
              "      <td>0.333333</td>\n",
              "      <td>0</td>\n",
              "    </tr>\n",
              "  </tbody>\n",
              "</table>\n",
              "</div>\n",
              "      <button class=\"colab-df-convert\" onclick=\"convertToInteractive('df-05ffdbc8-be70-42fb-b253-85500cd552ef')\"\n",
              "              title=\"Convert this dataframe to an interactive table.\"\n",
              "              style=\"display:none;\">\n",
              "        \n",
              "  <svg xmlns=\"http://www.w3.org/2000/svg\" height=\"24px\"viewBox=\"0 0 24 24\"\n",
              "       width=\"24px\">\n",
              "    <path d=\"M0 0h24v24H0V0z\" fill=\"none\"/>\n",
              "    <path d=\"M18.56 5.44l.94 2.06.94-2.06 2.06-.94-2.06-.94-.94-2.06-.94 2.06-2.06.94zm-11 1L8.5 8.5l.94-2.06 2.06-.94-2.06-.94L8.5 2.5l-.94 2.06-2.06.94zm10 10l.94 2.06.94-2.06 2.06-.94-2.06-.94-.94-2.06-.94 2.06-2.06.94z\"/><path d=\"M17.41 7.96l-1.37-1.37c-.4-.4-.92-.59-1.43-.59-.52 0-1.04.2-1.43.59L10.3 9.45l-7.72 7.72c-.78.78-.78 2.05 0 2.83L4 21.41c.39.39.9.59 1.41.59.51 0 1.02-.2 1.41-.59l7.78-7.78 2.81-2.81c.8-.78.8-2.07 0-2.86zM5.41 20L4 18.59l7.72-7.72 1.47 1.35L5.41 20z\"/>\n",
              "  </svg>\n",
              "      </button>\n",
              "      \n",
              "  <style>\n",
              "    .colab-df-container {\n",
              "      display:flex;\n",
              "      flex-wrap:wrap;\n",
              "      gap: 12px;\n",
              "    }\n",
              "\n",
              "    .colab-df-convert {\n",
              "      background-color: #E8F0FE;\n",
              "      border: none;\n",
              "      border-radius: 50%;\n",
              "      cursor: pointer;\n",
              "      display: none;\n",
              "      fill: #1967D2;\n",
              "      height: 32px;\n",
              "      padding: 0 0 0 0;\n",
              "      width: 32px;\n",
              "    }\n",
              "\n",
              "    .colab-df-convert:hover {\n",
              "      background-color: #E2EBFA;\n",
              "      box-shadow: 0px 1px 2px rgba(60, 64, 67, 0.3), 0px 1px 3px 1px rgba(60, 64, 67, 0.15);\n",
              "      fill: #174EA6;\n",
              "    }\n",
              "\n",
              "    [theme=dark] .colab-df-convert {\n",
              "      background-color: #3B4455;\n",
              "      fill: #D2E3FC;\n",
              "    }\n",
              "\n",
              "    [theme=dark] .colab-df-convert:hover {\n",
              "      background-color: #434B5C;\n",
              "      box-shadow: 0px 1px 3px 1px rgba(0, 0, 0, 0.15);\n",
              "      filter: drop-shadow(0px 1px 2px rgba(0, 0, 0, 0.3));\n",
              "      fill: #FFFFFF;\n",
              "    }\n",
              "  </style>\n",
              "\n",
              "      <script>\n",
              "        const buttonEl =\n",
              "          document.querySelector('#df-05ffdbc8-be70-42fb-b253-85500cd552ef button.colab-df-convert');\n",
              "        buttonEl.style.display =\n",
              "          google.colab.kernel.accessAllowed ? 'block' : 'none';\n",
              "\n",
              "        async function convertToInteractive(key) {\n",
              "          const element = document.querySelector('#df-05ffdbc8-be70-42fb-b253-85500cd552ef');\n",
              "          const dataTable =\n",
              "            await google.colab.kernel.invokeFunction('convertToInteractive',\n",
              "                                                     [key], {});\n",
              "          if (!dataTable) return;\n",
              "\n",
              "          const docLinkHtml = 'Like what you see? Visit the ' +\n",
              "            '<a target=\"_blank\" href=https://colab.research.google.com/notebooks/data_table.ipynb>data table notebook</a>'\n",
              "            + ' to learn more about interactive tables.';\n",
              "          element.innerHTML = '';\n",
              "          dataTable['output_type'] = 'display_data';\n",
              "          await google.colab.output.renderOutput(dataTable, element);\n",
              "          const docLink = document.createElement('div');\n",
              "          docLink.innerHTML = docLinkHtml;\n",
              "          element.appendChild(docLink);\n",
              "        }\n",
              "      </script>\n",
              "    </div>\n",
              "  </div>\n",
              "  "
            ]
          },
          "metadata": {},
          "execution_count": 33
        }
      ],
      "source": [
        "df5.head(5)"
      ]
    },
    {
      "cell_type": "code",
      "execution_count": null,
      "metadata": {
        "colab": {
          "base_uri": "https://localhost:8080/",
          "height": 279
        },
        "id": "auikHYvmZFa2",
        "outputId": "b70141f6-d77d-4642-caac-d393cc06e54a"
      },
      "outputs": [
        {
          "output_type": "display_data",
          "data": {
            "text/plain": [
              "<Figure size 432x288 with 1 Axes>"
            ],
            "image/png": "[encoded data removed]"
          },
          "metadata": {
            "needs_background": "light"
          }
        }
      ],
      "source": [
        "import matplotlib.pyplot as plt\n",
        "\n",
        "plt.scatter(df5['Credit history'], df5['Education level'], c=df5['Cluster'])\n",
        "plt.xlabel('Credit history')\n",
        "plt.ylabel('Education level')\n",
        "plt.show()"
      ]
    },
    {
      "cell_type": "markdown",
      "metadata": {
        "id": "PpPeC9bwdM1e"
      },
      "source": [
        "#### DBSCAN"
      ]
    },
    {
      "cell_type": "code",
      "execution_count": null,
      "metadata": {
        "id": "-QAtepA-d3RA"
      },
      "outputs": [],
      "source": [
        "from sklearn.cluster import DBSCAN\n",
        "import matplotlib.pyplot as plt\n",
        "import seaborn as sns"
      ]
    },
    {
      "cell_type": "code",
      "execution_count": null,
      "metadata": {
        "id": "hkjaxo19dmHR"
      },
      "outputs": [],
      "source": [
        "dfdbscan = df5"
      ]
    },
    {
      "cell_type": "code",
      "execution_count": null,
      "metadata": {
        "colab": {
          "base_uri": "https://localhost:8080/",
          "height": 295
        },
        "id": "vr6NEX_DdPnx",
        "outputId": "a9bd5fe3-090e-4e78-f7bd-9fca8b18e428"
      },
      "outputs": [
        {
          "data": {
            "image/png": "[encoded data removed]",
            "text/plain": [
              "<Figure size 432x288 with 1 Axes>"
            ]
          },
          "metadata": {},
          "output_type": "display_data"
        }
      ],
      "source": [
        "dfdbscan = df5[['Credit history', 'Income', 'Employment history', 'Loan amount', \n",
        "        'Collateral', 'Debt-to-income ratio', 'Geographic location', \n",
        "        'Age', 'Education level']]\n",
        "\n",
        "# Standardize the data\n",
        "scaler = StandardScaler()\n",
        "X_scaled = scaler.fit_transform(dfdbscan)\n",
        "\n",
        "# Perform clustering using DBSCAN\n",
        "dbscan = DBSCAN(eps=0.5, min_samples=5)\n",
        "clusters = dbscan.fit_predict(X_scaled)\n",
        "\n",
        "# Visualize the clustering result\n",
        "sns.scatterplot(x=dfdbscan['Credit history'], y=dfdbscan['Income'], hue=clusters, palette='bright')\n",
        "plt.title('Clustering using DBSCAN')\n",
        "plt.show()\n"
      ]
    },
    {
      "cell_type": "markdown",
      "metadata": {
        "id": "BC9bj3yweI76"
      },
      "source": [
        "#### Hierarcical Clustering"
      ]
    },
    {
      "cell_type": "code",
      "execution_count": null,
      "metadata": {
        "id": "u31a0MAYeLEM"
      },
      "outputs": [],
      "source": [
        "from scipy.cluster.hierarchy import dendrogram, linkage\n"
      ]
    },
    {
      "cell_type": "code",
      "execution_count": null,
      "metadata": {
        "id": "6hUoFLqdeL4K"
      },
      "outputs": [],
      "source": [
        "# Select features\n",
        "X = df[['Credit history', 'Income', 'Employment history', 'Loan amount', \n",
        "        'Collateral', 'Debt-to-income ratio', 'Geographic location', \n",
        "        'Age', 'Education level']]\n",
        "\n",
        "# Standardize the data\n",
        "scaler = StandardScaler()\n",
        "X_scaled = scaler.fit_transform(X)\n",
        "\n",
        "# Perform hierarchical clustering\n",
        "linkage_matrix = linkage(X_scaled, method='ward')\n",
        "\n",
        "# Plot the dendrogram\n",
        "plt.figure(figsize=(10, 5))\n",
        "dendrogram(linkage_matrix)\n",
        "plt.title('Dendrogram for Hierarchical Clustering')\n",
        "plt.xlabel('Samples')\n",
        "plt.ylabel('Distance')\n",
        "plt.show()"
      ]
    },
    {
      "cell_type": "markdown",
      "metadata": {
        "id": "aMMMyWr2yH-8"
      },
      "source": [
        "### Neural Network"
      ]
    },
    {
      "cell_type": "code",
      "execution_count": null,
      "metadata": {
        "id": "5Bq4ihwvyK6i"
      },
      "outputs": [],
      "source": []
    },
    {
      "cell_type": "markdown",
      "metadata": {
        "id": "VJIYjRuSyEzC"
      },
      "source": [
        "### Performa Model"
      ]
    },
    {
      "cell_type": "code",
      "execution_count": null,
      "metadata": {
        "id": "uj1l96JF0axu"
      },
      "outputs": [],
      "source": []
    },
    {
      "cell_type": "markdown",
      "metadata": {
        "id": "KNfLvrsc0btN"
      },
      "source": [
        "### TUNNING"
      ]
    },
    {
      "cell_type": "markdown",
      "metadata": {
        "id": "UhA8NNqmyiS5"
      },
      "source": [
        "### Saran Evaluasi Model"
      ]
    },
    {
      "cell_type": "markdown",
      "metadata": {
        "id": "tl428Nsbyljl"
      },
      "source": [
        "### Semi Deployment"
      ]
    },
    {
      "cell_type": "markdown",
      "metadata": {
        "id": "qtZ1L8OayoHY"
      },
      "source": [
        "### Flask Deployment"
      ]
    },
    {
      "cell_type": "markdown",
      "metadata": {
        "id": "4BUvOHI6sHnq"
      },
      "source": [
        "## ARSIP"
      ]
    },
    {
      "cell_type": "code",
      "execution_count": null,
      "metadata": {
        "id": "q_fjMk6AGrF1"
      },
      "outputs": [],
      "source": [
        "# Inisialisasi Faker\n",
        "fake = Faker()\n",
        "\n",
        "# Membuat data dummy\n",
        "data = {'Credit history': [fake.random_element(elements=('Good', 'Fair', 'Poor')) for _ in range(100)],\n",
        "        'Income': [fake.random_int(min=2000, max=100000) for _ in range(100)],\n",
        "        'Employment history': [fake.random_element(elements=('None', '1-2 years', '3-5 years', '6-10 years', '10+ years')) for _ in range(100)],\n",
        "        'Loan amount': [fake.random_int(min=1000, max=50000) for _ in range(100)],\n",
        "        'Collateral': [fake.random_element(elements=('None', 'Car', 'House', 'Stocks')) for _ in range(100)],\n",
        "        'Debt-to-income ratio': [fake.random_int(min=10, max=50) for _ in range(100)],\n",
        "        'Geographic location': [fake.random_element(elements=('Urban', 'Suburban', 'Rural')) for _ in range(100)],\n",
        "        'Age': [fake.random_int(min=18, max=80) for _ in range(100)],\n",
        "        'Education level': [fake.random_element(elements=('High school', 'Bachelor\\'s degree', 'Master\\'s degree', 'Doctoral degree')) for _ in range(100)]}\n"
      ]
    },
    {
      "cell_type": "code",
      "execution_count": null,
      "metadata": {
        "id": "l8MFbIMgGw1J"
      },
      "outputs": [],
      "source": [
        "# Konversi dictionary menjadi dataframe\n",
        "df = pd.DataFrame(data)\n",
        "df2= df"
      ]
    },
    {
      "cell_type": "code",
      "execution_count": null,
      "metadata": {
        "colab": {
          "base_uri": "https://localhost:8080/"
        },
        "id": "GYtiExWMF6pV",
        "outputId": "2df78f05-d097-4ae9-cd45-b27f83fb7685"
      },
      "outputs": [
        {
          "name": "stdout",
          "output_type": "stream",
          "text": [
            "   Income Employment history  Loan amount Collateral  Debt-to-income ratio  \\\n",
            "0   46622         6-10 years        32546        Car                    19   \n",
            "1   92640         6-10 years        37497        Car                    29   \n",
            "2   31487          10+ years        14179      House                    14   \n",
            "3   48953         6-10 years        31192        Car                    30   \n",
            "6   78954          3-5 years        40076     Stocks                    21   \n",
            "\n",
            "   Geographic location  Age  Education level  Credit history_Fair  \\\n",
            "0                    2   77                1                    1   \n",
            "1                    2   35                1                    1   \n",
            "2                    2   68                3                    0   \n",
            "3                    2   54                0                    0   \n",
            "6                    0   62                3                    0   \n",
            "\n",
            "   Credit history_Good  Credit history_Poor  \n",
            "0                    0                    0  \n",
            "1                    0                    0  \n",
            "2                    0                    1  \n",
            "3                    1                    0  \n",
            "6                    1                    0  \n"
          ]
        },
        {
          "name": "stderr",
          "output_type": "stream",
          "text": [
            "<ipython-input-15-23aa8f17b3f9>:10: SettingWithCopyWarning: \n",
            "A value is trying to be set on a copy of a slice from a DataFrame.\n",
            "Try using .loc[row_indexer,col_indexer] = value instead\n",
            "\n",
            "See the caveats in the documentation: https://pandas.pydata.org/pandas-docs/stable/user_guide/indexing.html#returning-a-view-versus-a-copy\n",
            "  df['Income'] = pd.to_numeric(df['Income'])\n",
            "<ipython-input-15-23aa8f17b3f9>:13: SettingWithCopyWarning: \n",
            "A value is trying to be set on a copy of a slice from a DataFrame.\n",
            "Try using .loc[row_indexer,col_indexer] = value instead\n",
            "\n",
            "See the caveats in the documentation: https://pandas.pydata.org/pandas-docs/stable/user_guide/indexing.html#returning-a-view-versus-a-copy\n",
            "  df['Employment history'] = pd.Categorical(df['Employment history'], categories=['1-2 years', '3-5 years', '6-10 years', '10+ years'], ordered=True)\n",
            "<ipython-input-15-23aa8f17b3f9>:16: SettingWithCopyWarning: \n",
            "A value is trying to be set on a copy of a slice from a DataFrame.\n",
            "Try using .loc[row_indexer,col_indexer] = value instead\n",
            "\n",
            "See the caveats in the documentation: https://pandas.pydata.org/pandas-docs/stable/user_guide/indexing.html#returning-a-view-versus-a-copy\n",
            "  df['Collateral'] = pd.Categorical(df['Collateral'], categories=['Car', 'House', 'Stocks'], ordered=True)\n",
            "<ipython-input-15-23aa8f17b3f9>:19: SettingWithCopyWarning: \n",
            "A value is trying to be set on a copy of a slice from a DataFrame.\n",
            "Try using .loc[row_indexer,col_indexer] = value instead\n",
            "\n",
            "See the caveats in the documentation: https://pandas.pydata.org/pandas-docs/stable/user_guide/indexing.html#returning-a-view-versus-a-copy\n",
            "  df['Education level'] = pd.Categorical(df['Education level'], categories=['High school', 'Bachelor\\'s degree', 'Master\\'s degree', 'Doctoral degree'], ordered=True)\n",
            "<ipython-input-15-23aa8f17b3f9>:20: SettingWithCopyWarning: \n",
            "A value is trying to be set on a copy of a slice from a DataFrame.\n",
            "Try using .loc[row_indexer,col_indexer] = value instead\n",
            "\n",
            "See the caveats in the documentation: https://pandas.pydata.org/pandas-docs/stable/user_guide/indexing.html#returning-a-view-versus-a-copy\n",
            "  df['Education level'] = df['Education level'].cat.codes\n"
          ]
        }
      ],
      "source": [
        "# Preprocessing\n",
        "# Mengubah nilai 'None' pada kolom 'Employment history' dan 'Collateral' menjadi nilai NaN\n",
        "df['Employment history'] = df['Employment history'].replace('None', np.nan)\n",
        "df['Collateral'] = df['Collateral'].replace('None', np.nan)\n",
        "\n",
        "# Menghapus baris dengan nilai NaN\n",
        "df = df.dropna()\n",
        "\n",
        "# Mengubah kolom 'Income' menjadi tipe data numerik\n",
        "df['Income'] = pd.to_numeric(df['Income'])\n",
        "\n",
        "# Mengubah kolom 'Employment history' menjadi tipe data kategori\n",
        "df['Employment history'] = pd.Categorical(df['Employment history'], categories=['1-2 years', '3-5 years', '6-10 years', '10+ years'], ordered=True)\n",
        "\n",
        "# Mengubah kolom 'Collateral' menjadi tipe data kategori\n",
        "df['Collateral'] = pd.Categorical(df['Collateral'], categories=['Car', 'House', 'Stocks'], ordered=True)\n",
        "\n",
        "# Mengubah kolom 'Education level' menjadi tipe data kategori dan mengkode kategori menggunakan angka\n",
        "df['Education level'] = pd.Categorical(df['Education level'], categories=['High school', 'Bachelor\\'s degree', 'Master\\'s degree', 'Doctoral degree'], ordered=True)\n",
        "df['Education level'] = df['Education level'].cat.codes\n",
        "\n",
        "# Mengubah kolom 'Credit history' menjadi tipe data numerik menggunakan one-hot encoding\n",
        "df = pd.get_dummies(df, columns=['Credit history'], prefix='Credit history')\n",
        "\n",
        "# Mengubah kolom 'Geographic location' menjadi tipe data numerik menggunakan label encoding\n",
        "df['Geographic location'] = df['Geographic location'].replace({'Urban': 0, 'Suburban': 1, 'Rural': 2})\n",
        "\n",
        "# Menampilkan dataframe\n",
        "print(df.head())\n"
      ]
    },
    {
      "cell_type": "code",
      "execution_count": null,
      "metadata": {
        "colab": {
          "base_uri": "https://localhost:8080/",
          "height": 1000
        },
        "id": "mNn46MQsGYNY",
        "outputId": "85f6a5e2-7524-4897-c220-8493fb66485b"
      },
      "outputs": [
        {
          "name": "stdout",
          "output_type": "stream",
          "text": [
            "   Income Employment history  Loan amount Collateral  Debt-to-income ratio  \\\n",
            "0   46622         6-10 years        32546        Car                    19   \n",
            "1   92640         6-10 years        37497        Car                    29   \n",
            "2   31487          10+ years        14179      House                    14   \n",
            "3   48953         6-10 years        31192        Car                    30   \n",
            "6   78954          3-5 years        40076     Stocks                    21   \n",
            "\n",
            "   Geographic location  Age  Education level  Credit history_Fair  \\\n",
            "0                    2   77                1                    1   \n",
            "1                    2   35                1                    1   \n",
            "2                    2   68                3                    0   \n",
            "3                    2   54                0                    0   \n",
            "6                    0   62                3                    0   \n",
            "\n",
            "   Credit history_Good  Credit history_Poor  \n",
            "0                    0                    0  \n",
            "1                    0                    0  \n",
            "2                    0                    1  \n",
            "3                    1                    0  \n",
            "6                    1                    0  \n",
            "             Income   Loan amount  Debt-to-income ratio  Geographic location  \\\n",
            "count     66.000000     66.000000             66.000000            66.000000   \n",
            "mean   49449.212121  26682.909091             29.272727             0.939394   \n",
            "std    24089.875866  14515.085218             11.787275             0.782084   \n",
            "min     3401.000000   1884.000000             10.000000             0.000000   \n",
            "25%    31306.250000  14260.500000             20.250000             0.000000   \n",
            "50%    44851.000000  26825.500000             28.000000             1.000000   \n",
            "75%    69820.750000  38781.000000             39.500000             2.000000   \n",
            "max    96824.000000  49961.000000             50.000000             2.000000   \n",
            "\n",
            "             Age  Education level  Credit history_Fair  Credit history_Good  \\\n",
            "count  66.000000        66.000000             66.00000            66.000000   \n",
            "mean   48.681818         1.606061              0.30303             0.272727   \n",
            "std    17.976189         1.188131              0.46309             0.448775   \n",
            "min    19.000000         0.000000              0.00000             0.000000   \n",
            "25%    34.250000         1.000000              0.00000             0.000000   \n",
            "50%    48.000000         1.000000              0.00000             0.000000   \n",
            "75%    62.000000         3.000000              1.00000             1.000000   \n",
            "max    79.000000         3.000000              1.00000             1.000000   \n",
            "\n",
            "       Credit history_Poor  \n",
            "count            66.000000  \n",
            "mean              0.424242  \n",
            "std               0.498015  \n",
            "min               0.000000  \n",
            "25%               0.000000  \n",
            "50%               0.000000  \n",
            "75%               1.000000  \n",
            "max               1.000000  \n",
            "Income                  66\n",
            "Employment history       4\n",
            "Loan amount             66\n",
            "Collateral               3\n",
            "Debt-to-income ratio    32\n",
            "Geographic location      3\n",
            "Age                     42\n",
            "Education level          4\n",
            "Credit history_Fair      2\n",
            "Credit history_Good      2\n",
            "Credit history_Poor      2\n",
            "dtype: int64\n",
            "                        Income  Loan amount  Debt-to-income ratio  \\\n",
            "Income                1.000000     0.038062              0.123399   \n",
            "Loan amount           0.038062     1.000000              0.100146   \n",
            "Debt-to-income ratio  0.123399     0.100146              1.000000   \n",
            "Geographic location  -0.025548    -0.038168             -0.073278   \n",
            "Age                  -0.078093     0.018619              0.114118   \n",
            "Education level       0.027208    -0.015940             -0.051531   \n",
            "Credit history_Fair  -0.034185     0.082505              0.057906   \n",
            "Credit history_Good   0.251568     0.089645             -0.069536   \n",
            "Credit history_Poor  -0.194907    -0.157501              0.008815   \n",
            "\n",
            "                      Geographic location       Age  Education level  \\\n",
            "Income                          -0.025548 -0.078093         0.027208   \n",
            "Loan amount                     -0.038168  0.018619        -0.015940   \n",
            "Debt-to-income ratio            -0.073278  0.114118        -0.051531   \n",
            "Geographic location              1.000000  0.021588         0.023580   \n",
            "Age                              0.021588  1.000000         0.092004   \n",
            "Education level                  0.023580  0.092004         1.000000   \n",
            "Credit history_Fair              0.093967 -0.032594        -0.087273   \n",
            "Credit history_Good             -0.171349 -0.076802        -0.083937   \n",
            "Credit history_Poor              0.067029  0.099516         0.156790   \n",
            "\n",
            "                      Credit history_Fair  Credit history_Good  \\\n",
            "Income                          -0.034185             0.251568   \n",
            "Loan amount                      0.082505             0.089645   \n",
            "Debt-to-income ratio             0.057906            -0.069536   \n",
            "Geographic location              0.093967            -0.171349   \n",
            "Age                             -0.032594            -0.076802   \n",
            "Education level                 -0.087273            -0.083937   \n",
            "Credit history_Fair              1.000000            -0.403786   \n",
            "Credit history_Good             -0.403786             1.000000   \n",
            "Credit history_Poor             -0.566009            -0.525657   \n",
            "\n",
            "                      Credit history_Poor  \n",
            "Income                          -0.194907  \n",
            "Loan amount                     -0.157501  \n",
            "Debt-to-income ratio             0.008815  \n",
            "Geographic location              0.067029  \n",
            "Age                              0.099516  \n",
            "Education level                  0.156790  \n",
            "Credit history_Fair             -0.566009  \n",
            "Credit history_Good             -0.525657  \n",
            "Credit history_Poor              1.000000  \n"
          ]
        },
        {
          "data": {
            "image/png": "[encoded data removed]",
            "text/plain": [
              "<Figure size 432x288 with 9 Axes>"
            ]
          },
          "metadata": {},
          "output_type": "display_data"
        },
        {
          "data": {
            "image/png": "[encoded data removed]",
            "text/plain": [
              "<Figure size 432x288 with 1 Axes>"
            ]
          },
          "metadata": {},
          "output_type": "display_data"
        }
      ],
      "source": [
        "# Menampilkan 5 baris pertama dari data\n",
        "print(df.head())\n",
        "\n",
        "# Menampilkan deskripsi statistik dari data\n",
        "print(df.describe())\n",
        "\n",
        "# Menampilkan jumlah data unik pada setiap kolom\n",
        "print(df.nunique())\n",
        "\n",
        "# Menampilkan korelasi antar kolom\n",
        "print(df.corr())\n",
        "\n",
        "# Menampilkan distribusi data pada setiap kolom\n",
        "import matplotlib.pyplot as plt\n",
        "df.hist()\n",
        "plt.show()\n",
        "\n",
        "# Menampilkan boxplot untuk setiap kolom numerik\n",
        "df.boxplot()\n",
        "plt.show()\n"
      ]
    },
    {
      "cell_type": "code",
      "execution_count": null,
      "metadata": {
        "colab": {
          "base_uri": "https://localhost:8080/",
          "height": 382
        },
        "id": "0HvkzBEJNC6l",
        "outputId": "d2516c06-e7cf-4c3c-94cf-7f11bb757894"
      },
      "outputs": [
        {
          "ename": "KeyError",
          "evalue": "ignored",
          "output_type": "error",
          "traceback": [
            "\u001b[0;31m---------------------------------------------------------------------------\u001b[0m",
            "\u001b[0;31mKeyError\u001b[0m                                  Traceback (most recent call last)",
            "\u001b[0;32m<ipython-input-21-7413ad2d3ba9>\u001b[0m in \u001b[0;36m<module>\u001b[0;34m\u001b[0m\n\u001b[1;32m      2\u001b[0m \u001b[0;34m\u001b[0m\u001b[0m\n\u001b[1;32m      3\u001b[0m \u001b[0;31m# one-hot encoding for categorical columns\u001b[0m\u001b[0;34m\u001b[0m\u001b[0;34m\u001b[0m\u001b[0;34m\u001b[0m\u001b[0m\n\u001b[0;32m----> 4\u001b[0;31m \u001b[0mdata_encoded\u001b[0m \u001b[0;34m=\u001b[0m \u001b[0mpd\u001b[0m\u001b[0;34m.\u001b[0m\u001b[0mget_dummies\u001b[0m\u001b[0;34m(\u001b[0m\u001b[0mdf\u001b[0m\u001b[0;34m,\u001b[0m \u001b[0mcolumns\u001b[0m\u001b[0;34m=\u001b[0m\u001b[0;34m[\u001b[0m\u001b[0;34m'collateral'\u001b[0m\u001b[0;34m,\u001b[0m \u001b[0;34m'geographic_location'\u001b[0m\u001b[0;34m,\u001b[0m \u001b[0;34m'education_level'\u001b[0m\u001b[0;34m]\u001b[0m\u001b[0;34m)\u001b[0m\u001b[0;34m\u001b[0m\u001b[0;34m\u001b[0m\u001b[0m\n\u001b[0m\u001b[1;32m      5\u001b[0m \u001b[0;34m\u001b[0m\u001b[0m\n\u001b[1;32m      6\u001b[0m \u001b[0;31m# normalization\u001b[0m\u001b[0;34m\u001b[0m\u001b[0;34m\u001b[0m\u001b[0;34m\u001b[0m\u001b[0m\n",
            "\u001b[0;32m/usr/local/lib/python3.8/dist-packages/pandas/core/reshape/reshape.py\u001b[0m in \u001b[0;36mget_dummies\u001b[0;34m(data, prefix, prefix_sep, dummy_na, columns, sparse, drop_first, dtype)\u001b[0m\n\u001b[1;32m    888\u001b[0m             \u001b[0;32mraise\u001b[0m \u001b[0mTypeError\u001b[0m\u001b[0;34m(\u001b[0m\u001b[0;34m\"Input must be a list-like for parameter `columns`\"\u001b[0m\u001b[0;34m)\u001b[0m\u001b[0;34m\u001b[0m\u001b[0;34m\u001b[0m\u001b[0m\n\u001b[1;32m    889\u001b[0m         \u001b[0;32melse\u001b[0m\u001b[0;34m:\u001b[0m\u001b[0;34m\u001b[0m\u001b[0;34m\u001b[0m\u001b[0m\n\u001b[0;32m--> 890\u001b[0;31m             \u001b[0mdata_to_encode\u001b[0m \u001b[0;34m=\u001b[0m \u001b[0mdata\u001b[0m\u001b[0;34m[\u001b[0m\u001b[0mcolumns\u001b[0m\u001b[0;34m]\u001b[0m\u001b[0;34m\u001b[0m\u001b[0;34m\u001b[0m\u001b[0m\n\u001b[0m\u001b[1;32m    891\u001b[0m \u001b[0;34m\u001b[0m\u001b[0m\n\u001b[1;32m    892\u001b[0m         \u001b[0;31m# validate prefixes and separator to avoid silently dropping cols\u001b[0m\u001b[0;34m\u001b[0m\u001b[0;34m\u001b[0m\u001b[0;34m\u001b[0m\u001b[0m\n",
            "\u001b[0;32m/usr/local/lib/python3.8/dist-packages/pandas/core/frame.py\u001b[0m in \u001b[0;36m__getitem__\u001b[0;34m(self, key)\u001b[0m\n\u001b[1;32m   3462\u001b[0m             \u001b[0;32mif\u001b[0m \u001b[0mis_iterator\u001b[0m\u001b[0;34m(\u001b[0m\u001b[0mkey\u001b[0m\u001b[0;34m)\u001b[0m\u001b[0;34m:\u001b[0m\u001b[0;34m\u001b[0m\u001b[0;34m\u001b[0m\u001b[0m\n\u001b[1;32m   3463\u001b[0m                 \u001b[0mkey\u001b[0m \u001b[0;34m=\u001b[0m \u001b[0mlist\u001b[0m\u001b[0;34m(\u001b[0m\u001b[0mkey\u001b[0m\u001b[0;34m)\u001b[0m\u001b[0;34m\u001b[0m\u001b[0;34m\u001b[0m\u001b[0m\n\u001b[0;32m-> 3464\u001b[0;31m             \u001b[0mindexer\u001b[0m \u001b[0;34m=\u001b[0m \u001b[0mself\u001b[0m\u001b[0;34m.\u001b[0m\u001b[0mloc\u001b[0m\u001b[0;34m.\u001b[0m\u001b[0m_get_listlike_indexer\u001b[0m\u001b[0;34m(\u001b[0m\u001b[0mkey\u001b[0m\u001b[0;34m,\u001b[0m \u001b[0maxis\u001b[0m\u001b[0;34m=\u001b[0m\u001b[0;36m1\u001b[0m\u001b[0;34m)\u001b[0m\u001b[0;34m[\u001b[0m\u001b[0;36m1\u001b[0m\u001b[0;34m]\u001b[0m\u001b[0;34m\u001b[0m\u001b[0;34m\u001b[0m\u001b[0m\n\u001b[0m\u001b[1;32m   3465\u001b[0m \u001b[0;34m\u001b[0m\u001b[0m\n\u001b[1;32m   3466\u001b[0m         \u001b[0;31m# take() does not accept boolean indexers\u001b[0m\u001b[0;34m\u001b[0m\u001b[0;34m\u001b[0m\u001b[0;34m\u001b[0m\u001b[0m\n",
            "\u001b[0;32m/usr/local/lib/python3.8/dist-packages/pandas/core/indexing.py\u001b[0m in \u001b[0;36m_get_listlike_indexer\u001b[0;34m(self, key, axis)\u001b[0m\n\u001b[1;32m   1312\u001b[0m             \u001b[0mkeyarr\u001b[0m\u001b[0;34m,\u001b[0m \u001b[0mindexer\u001b[0m\u001b[0;34m,\u001b[0m \u001b[0mnew_indexer\u001b[0m \u001b[0;34m=\u001b[0m \u001b[0max\u001b[0m\u001b[0;34m.\u001b[0m\u001b[0m_reindex_non_unique\u001b[0m\u001b[0;34m(\u001b[0m\u001b[0mkeyarr\u001b[0m\u001b[0;34m)\u001b[0m\u001b[0;34m\u001b[0m\u001b[0;34m\u001b[0m\u001b[0m\n\u001b[1;32m   1313\u001b[0m \u001b[0;34m\u001b[0m\u001b[0m\n\u001b[0;32m-> 1314\u001b[0;31m         \u001b[0mself\u001b[0m\u001b[0;34m.\u001b[0m\u001b[0m_validate_read_indexer\u001b[0m\u001b[0;34m(\u001b[0m\u001b[0mkeyarr\u001b[0m\u001b[0;34m,\u001b[0m \u001b[0mindexer\u001b[0m\u001b[0;34m,\u001b[0m \u001b[0maxis\u001b[0m\u001b[0;34m)\u001b[0m\u001b[0;34m\u001b[0m\u001b[0;34m\u001b[0m\u001b[0m\n\u001b[0m\u001b[1;32m   1315\u001b[0m \u001b[0;34m\u001b[0m\u001b[0m\n\u001b[1;32m   1316\u001b[0m         if needs_i8_conversion(ax.dtype) or isinstance(\n",
            "\u001b[0;32m/usr/local/lib/python3.8/dist-packages/pandas/core/indexing.py\u001b[0m in \u001b[0;36m_validate_read_indexer\u001b[0;34m(self, key, indexer, axis)\u001b[0m\n\u001b[1;32m   1372\u001b[0m                 \u001b[0;32mif\u001b[0m \u001b[0muse_interval_msg\u001b[0m\u001b[0;34m:\u001b[0m\u001b[0;34m\u001b[0m\u001b[0;34m\u001b[0m\u001b[0m\n\u001b[1;32m   1373\u001b[0m                     \u001b[0mkey\u001b[0m \u001b[0;34m=\u001b[0m \u001b[0mlist\u001b[0m\u001b[0;34m(\u001b[0m\u001b[0mkey\u001b[0m\u001b[0;34m)\u001b[0m\u001b[0;34m\u001b[0m\u001b[0;34m\u001b[0m\u001b[0m\n\u001b[0;32m-> 1374\u001b[0;31m                 \u001b[0;32mraise\u001b[0m \u001b[0mKeyError\u001b[0m\u001b[0;34m(\u001b[0m\u001b[0;34mf\"None of [{key}] are in the [{axis_name}]\"\u001b[0m\u001b[0;34m)\u001b[0m\u001b[0;34m\u001b[0m\u001b[0;34m\u001b[0m\u001b[0m\n\u001b[0m\u001b[1;32m   1375\u001b[0m \u001b[0;34m\u001b[0m\u001b[0m\n\u001b[1;32m   1376\u001b[0m             \u001b[0mnot_found\u001b[0m \u001b[0;34m=\u001b[0m \u001b[0mlist\u001b[0m\u001b[0;34m(\u001b[0m\u001b[0mensure_index\u001b[0m\u001b[0;34m(\u001b[0m\u001b[0mkey\u001b[0m\u001b[0;34m)\u001b[0m\u001b[0;34m[\u001b[0m\u001b[0mmissing_mask\u001b[0m\u001b[0;34m.\u001b[0m\u001b[0mnonzero\u001b[0m\u001b[0;34m(\u001b[0m\u001b[0;34m)\u001b[0m\u001b[0;34m[\u001b[0m\u001b[0;36m0\u001b[0m\u001b[0;34m]\u001b[0m\u001b[0;34m]\u001b[0m\u001b[0;34m.\u001b[0m\u001b[0munique\u001b[0m\u001b[0;34m(\u001b[0m\u001b[0;34m)\u001b[0m\u001b[0;34m)\u001b[0m\u001b[0;34m\u001b[0m\u001b[0;34m\u001b[0m\u001b[0m\n",
            "\u001b[0;31mKeyError\u001b[0m: \"None of [Index(['collateral', 'geographic_location', 'education_level'], dtype='object')] are in the [columns]\""
          ]
        }
      ],
      "source": [
        "# preprocessing\n",
        "\n",
        "# one-hot encoding for categorical columns\n",
        "data_encoded = pd.get_dummies(df, columns=['collateral', 'geographic_location', 'education_level'])\n",
        "\n",
        "# normalization\n",
        "data_norm = (data_encoded - data_encoded.mean()) / data_encoded.std()\n",
        "\n",
        "# show normalized data\n",
        "print(data_norm)"
      ]
    },
    {
      "cell_type": "code",
      "execution_count": null,
      "metadata": {
        "id": "LhkXEAS-NcX0"
      },
      "outputs": [],
      "source": []
    }
  ],
  "metadata": {
    "colab": {
      "collapsed_sections": [
        "4BUvOHI6sHnq"
      ],
      "provenance": [],
      "authorship_tag": "ABX9TyOy6v1ibOiVhLAYQmrIyxY+",
      "include_colab_link": true
    },
    "kernelspec": {
      "display_name": "Python 3",
      "name": "python3"
    },
    "language_info": {
      "name": "python"
    }
  },
  "nbformat": 4,
  "nbformat_minor": 0
}